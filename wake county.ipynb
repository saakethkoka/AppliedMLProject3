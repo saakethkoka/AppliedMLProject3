{
 "cells": [
  {
   "cell_type": "code",
   "execution_count": 38,
   "id": "084e6851",
   "metadata": {},
   "outputs": [],
   "source": [
    "import os\n",
    "import scipy\n",
    "import sklearn\n",
    "import numpy as np\n",
    "import pandas as pd\n",
    "import matplotlib.pyplot as plt\n",
    "import math\n",
    "from sklearn.model_selection import train_test_split\n",
    "from sklearn.preprocessing import OrdinalEncoder\n",
    "from sklearn.preprocessing import StandardScaler\n",
    "from sklearn.linear_model import SGDClassifier\n",
    "from sklearn.ensemble import RandomForestClassifier\n",
    "from sklearn.metrics import accuracy_score\n",
    "from sklearn.model_selection import cross_val_score\n",
    "from sklearn.neighbors import KNeighborsClassifier\n",
    "from sklearn.multiclass import OneVsOneClassifier\n",
    "from sklearn.svm import LinearSVC\n",
    "from sklearn.model_selection import StratifiedKFold\n",
    "\n",
    "\n",
    "import warnings\n",
    "warnings.simplefilter(action='ignore', category=FutureWarning)\n",
    "\n",
    "%matplotlib inline\n",
    "np.random.seed(42)"
   ]
  },
  {
   "cell_type": "markdown",
   "id": "300da68f",
   "metadata": {},
   "source": [
    "<h1>Importing the Dataset:"
   ]
  },
  {
   "cell_type": "code",
   "execution_count": 2,
   "id": "deb56398",
   "metadata": {},
   "outputs": [
    {
     "name": "stdout",
     "output_type": "stream",
     "text": [
      "<class 'pandas.core.frame.DataFrame'>\n",
      "RangeIndex: 308292 entries, 0 to 308291\n",
      "Data columns (total 15 columns):\n",
      " #   Column              Non-Null Count   Dtype  \n",
      "---  ------              --------------   -----  \n",
      " 0   Real_Estate_Id      308292 non-null  int64  \n",
      " 1   Deeded_Acreage      308292 non-null  float64\n",
      " 2   Year_of_Sale        308292 non-null  int64  \n",
      " 3   Physical_Zip        308146 non-null  float64\n",
      " 4   Year_Built          308292 non-null  int64  \n",
      " 5   Physical_City       308183 non-null  object \n",
      " 6   Total_Sale_Date     308292 non-null  object \n",
      " 7   Month_Year_of_Sale  308292 non-null  object \n",
      " 8   Year_Remodeled      308292 non-null  int64  \n",
      " 9   Heated_Area         308292 non-null  int64  \n",
      " 10  Num_Stories         308292 non-null  object \n",
      " 11  Design_Style        308292 non-null  object \n",
      " 12  Bath                308275 non-null  object \n",
      " 13  Utilities           306324 non-null  object \n",
      " 14  Total_Sale_Price    308292 non-null  int64  \n",
      "dtypes: float64(2), int64(6), object(7)\n",
      "memory usage: 35.3+ MB\n",
      "CPU times: user 877 ms, sys: 156 ms, total: 1.03 s\n",
      "Wall time: 1.08 s\n"
     ]
    }
   ],
   "source": [
    "%%time\n",
    "wakeCounty = pd.read_csv(\"WakeCountyHousing.csv\")\n",
    "wakeCounty = wakeCounty[['Real_Estate_Id','Deeded_Acreage','Year_of_Sale','Physical_Zip',\n",
    "                         'Year_Built','Physical_City','Total_Sale_Date','Month_Year_of_Sale',\n",
    "                         'Year_Remodeled','Heated_Area','Num_Stories','Design_Style','Bath',\n",
    "                         'Utilities','Total_Sale_Price']]\n",
    "wakeCounty.info()"
   ]
  },
  {
   "cell_type": "markdown",
   "id": "ed26f8d9",
   "metadata": {},
   "source": [
    "<h1>Cleaning the Data and Data Preparation:"
   ]
  },
  {
   "cell_type": "code",
   "execution_count": 3,
   "id": "4372fb39",
   "metadata": {},
   "outputs": [
    {
     "data": {
      "text/plain": "   Real_Estate_Id  Deeded_Acreage  Year_of_Sale  Physical_Zip  Year_Built  \\\n0              19            0.21          1974       27610.0        1964   \n1              20            0.46          1983       27610.0        1970   \n2              22            0.46          2004       27591.0        1900   \n3              25            0.96          1971       27613.0        1971   \n4              30            0.47          2015       27607.0        1946   \n\n  Physical_City Total_Sale_Date Month_Year_of_Sale  Year_Remodeled  \\\n0       Raleigh        1/1/1974       January 1974            1964   \n1       Raleigh       5/18/1983           May 1983            1970   \n2       Wendell       9/16/2004     September 2004            1900   \n3       Raleigh        1/1/1971       January 1971            1971   \n4       Raleigh       8/12/2015        August 2015            2017   \n\n   Heated_Area Num_Stories  Design_Style    Bath Utilities  Total_Sale_Price  \n0         1828   One Story   Split level  2 Bath       ALL             34500  \n1         1240   One Story  Conventional  1 Bath         E             35500  \n2         2261   One Story  Conventional  2 Bath       WSE             37500  \n3         3770   One Story  Conventional   Other       WGE             70000  \n4         1789   One Story  Conventional  2 Bath       ALL            380000  ",
      "text/html": "<div>\n<style scoped>\n    .dataframe tbody tr th:only-of-type {\n        vertical-align: middle;\n    }\n\n    .dataframe tbody tr th {\n        vertical-align: top;\n    }\n\n    .dataframe thead th {\n        text-align: right;\n    }\n</style>\n<table border=\"1\" class=\"dataframe\">\n  <thead>\n    <tr style=\"text-align: right;\">\n      <th></th>\n      <th>Real_Estate_Id</th>\n      <th>Deeded_Acreage</th>\n      <th>Year_of_Sale</th>\n      <th>Physical_Zip</th>\n      <th>Year_Built</th>\n      <th>Physical_City</th>\n      <th>Total_Sale_Date</th>\n      <th>Month_Year_of_Sale</th>\n      <th>Year_Remodeled</th>\n      <th>Heated_Area</th>\n      <th>Num_Stories</th>\n      <th>Design_Style</th>\n      <th>Bath</th>\n      <th>Utilities</th>\n      <th>Total_Sale_Price</th>\n    </tr>\n  </thead>\n  <tbody>\n    <tr>\n      <th>0</th>\n      <td>19</td>\n      <td>0.21</td>\n      <td>1974</td>\n      <td>27610.0</td>\n      <td>1964</td>\n      <td>Raleigh</td>\n      <td>1/1/1974</td>\n      <td>January 1974</td>\n      <td>1964</td>\n      <td>1828</td>\n      <td>One Story</td>\n      <td>Split level</td>\n      <td>2 Bath</td>\n      <td>ALL</td>\n      <td>34500</td>\n    </tr>\n    <tr>\n      <th>1</th>\n      <td>20</td>\n      <td>0.46</td>\n      <td>1983</td>\n      <td>27610.0</td>\n      <td>1970</td>\n      <td>Raleigh</td>\n      <td>5/18/1983</td>\n      <td>May 1983</td>\n      <td>1970</td>\n      <td>1240</td>\n      <td>One Story</td>\n      <td>Conventional</td>\n      <td>1 Bath</td>\n      <td>E</td>\n      <td>35500</td>\n    </tr>\n    <tr>\n      <th>2</th>\n      <td>22</td>\n      <td>0.46</td>\n      <td>2004</td>\n      <td>27591.0</td>\n      <td>1900</td>\n      <td>Wendell</td>\n      <td>9/16/2004</td>\n      <td>September 2004</td>\n      <td>1900</td>\n      <td>2261</td>\n      <td>One Story</td>\n      <td>Conventional</td>\n      <td>2 Bath</td>\n      <td>WSE</td>\n      <td>37500</td>\n    </tr>\n    <tr>\n      <th>3</th>\n      <td>25</td>\n      <td>0.96</td>\n      <td>1971</td>\n      <td>27613.0</td>\n      <td>1971</td>\n      <td>Raleigh</td>\n      <td>1/1/1971</td>\n      <td>January 1971</td>\n      <td>1971</td>\n      <td>3770</td>\n      <td>One Story</td>\n      <td>Conventional</td>\n      <td>Other</td>\n      <td>WGE</td>\n      <td>70000</td>\n    </tr>\n    <tr>\n      <th>4</th>\n      <td>30</td>\n      <td>0.47</td>\n      <td>2015</td>\n      <td>27607.0</td>\n      <td>1946</td>\n      <td>Raleigh</td>\n      <td>8/12/2015</td>\n      <td>August 2015</td>\n      <td>2017</td>\n      <td>1789</td>\n      <td>One Story</td>\n      <td>Conventional</td>\n      <td>2 Bath</td>\n      <td>ALL</td>\n      <td>380000</td>\n    </tr>\n  </tbody>\n</table>\n</div>"
     },
     "execution_count": 3,
     "metadata": {},
     "output_type": "execute_result"
    }
   ],
   "source": [
    "#Dropping all the columns that have NaN as a part of them\n",
    "wakeCounty = wakeCounty.dropna()\n",
    "wakeCounty.head()"
   ]
  },
  {
   "cell_type": "code",
   "execution_count": 4,
   "id": "4fff79b5",
   "metadata": {},
   "outputs": [],
   "source": [
    "wakeCounty = wakeCounty.drop(['Month_Year_of_Sale','Total_Sale_Date','Design_Style',\n",
    "                              'Real_Estate_Id','Physical_City','Total_Sale_Date','Month_Year_of_Sale',\n",
    "                              'Heated_Area','Design_Style','Utilities'], axis=1)"
   ]
  },
  {
   "cell_type": "code",
   "execution_count": 5,
   "id": "a5626b5d",
   "metadata": {},
   "outputs": [
    {
     "name": "stdout",
     "output_type": "stream",
     "text": [
      "<class 'pandas.core.frame.DataFrame'>\n",
      "Int64Index: 306161 entries, 0 to 308291\n",
      "Data columns (total 8 columns):\n",
      " #   Column            Non-Null Count   Dtype  \n",
      "---  ------            --------------   -----  \n",
      " 0   Deeded_Acreage    306161 non-null  float64\n",
      " 1   Year_of_Sale      306161 non-null  int64  \n",
      " 2   Physical_Zip      306161 non-null  float64\n",
      " 3   Year_Built        306161 non-null  int64  \n",
      " 4   Year_Remodeled    306161 non-null  int64  \n",
      " 5   Num_Stories       306161 non-null  object \n",
      " 6   Bath              306161 non-null  object \n",
      " 7   Total_Sale_Price  306161 non-null  int64  \n",
      "dtypes: float64(2), int64(4), object(2)\n",
      "memory usage: 21.0+ MB\n"
     ]
    }
   ],
   "source": [
    "wakeCounty.info()"
   ]
  },
  {
   "cell_type": "code",
   "execution_count": 6,
   "id": "979823b0",
   "metadata": {},
   "outputs": [],
   "source": [
    "wakeCounty['Num_Stories'] = wakeCounty['Num_Stories'].replace(['One Story'],1)\n",
    "wakeCounty['Num_Stories'] = wakeCounty['Num_Stories'].replace(['Two Story'],2)\n",
    "wakeCounty['Num_Stories'] = wakeCounty['Num_Stories'].replace(['Other'],0)\n",
    "wakeCounty['Bath'] = wakeCounty['Bath'].replace(['2 Bath'],2)\n",
    "wakeCounty['Bath'] = wakeCounty['Bath'].replace(['1 Bath'],1)\n",
    "wakeCounty['Bath'] = wakeCounty['Bath'].replace(['Other'],0)\n",
    "wakeCounty['Bath'] = wakeCounty['Bath'].replace(['3 Bath'],3)\n",
    "wakeCounty['Bath'] = wakeCounty['Bath'].replace(['3½ Bath'],3.5)\n",
    "wakeCounty['Bath'] = wakeCounty['Bath'].replace(['1 ½ Bath'],1.5)\n",
    "wakeCounty['Bath'] = wakeCounty['Bath'].replace(['2½ Bath'],2.5)"
   ]
  },
  {
   "cell_type": "code",
   "execution_count": 7,
   "id": "25d30dad",
   "metadata": {},
   "outputs": [
    {
     "data": {
      "text/plain": "array([[0.],\n       [0.],\n       [0.],\n       [0.],\n       [1.],\n       [0.],\n       [0.],\n       [0.],\n       [0.],\n       [0.]])"
     },
     "execution_count": 7,
     "metadata": {},
     "output_type": "execute_result"
    }
   ],
   "source": [
    "def categorise(row):  \n",
    "    if row['Year_Built'] == row['Year_Remodeled']:\n",
    "        return \"NO\"\n",
    "    else:\n",
    "        return \"YES\"\n",
    "    \n",
    "wakeCounty['Is_Remodeled'] = wakeCounty.apply(lambda row: categorise(row), axis=1)\n",
    "\n",
    "remodeled_cat = wakeCounty[\"Is_Remodeled\"]\n",
    "remodeled_cat = np.array(remodeled_cat).reshape(-1, 1)\n",
    "ordinal_encoder = OrdinalEncoder()\n",
    "remodeled_cat_encoded = ordinal_encoder.fit_transform(remodeled_cat)\n",
    "remodeled_cat_encoded[:10]"
   ]
  },
  {
   "cell_type": "markdown",
   "id": "32cafcae",
   "metadata": {},
   "source": [
    "<h1>Splitting into Test and Training Data:"
   ]
  },
  {
   "cell_type": "code",
   "execution_count": 8,
   "id": "ebb22246",
   "metadata": {},
   "outputs": [],
   "source": [
    "X_train, X_test, y_train, y_test = train_test_split(wakeCounty.drop(['Is_Remodeled'], axis=1), \n",
    "                                                    remodeled_cat_encoded, test_size=0.3, random_state=42)\n",
    "X_train = X_train[:1000]\n",
    "y_train = y_train[:1000]\n",
    "X_test = X_test[:400]\n",
    "y_test = y_test[:400]"
   ]
  },
  {
   "cell_type": "markdown",
   "id": "15dee009",
   "metadata": {},
   "source": [
    "<h1>SGD Classification of the Data:"
   ]
  },
  {
   "cell_type": "code",
   "execution_count": 9,
   "id": "1eb13b12",
   "metadata": {},
   "outputs": [
    {
     "name": "stdout",
     "output_type": "stream",
     "text": [
      "Accuracy:  0.9825\n"
     ]
    },
    {
     "name": "stderr",
     "output_type": "stream",
     "text": [
      "/Users/saakethkoka/opt/anaconda3/lib/python3.8/site-packages/sklearn/utils/validation.py:72: DataConversionWarning: A column-vector y was passed when a 1d array was expected. Please change the shape of y to (n_samples, ), for example using ravel().\n",
      "  return f(**kwargs)\n"
     ]
    }
   ],
   "source": [
    "clf = SGDClassifier(random_state=42, max_iter=100)\n",
    "clf.fit(X_train, y_train)\n",
    "\n",
    "y_pred = clf.predict(X_test)\n",
    "print(\"Accuracy: \",accuracy_score(y_test, y_pred))"
   ]
  },
  {
   "cell_type": "markdown",
   "id": "28691d73",
   "metadata": {},
   "source": [
    "<h1>Random Forest Classification:"
   ]
  },
  {
   "cell_type": "code",
   "execution_count": 10,
   "id": "f3a3e354",
   "metadata": {},
   "outputs": [
    {
     "name": "stderr",
     "output_type": "stream",
     "text": [
      "<ipython-input-10-cc28f33a9819>:2: DataConversionWarning: A column-vector y was passed when a 1d array was expected. Please change the shape of y to (n_samples,), for example using ravel().\n",
      "  rnd_clf.fit(X_train, y_train)\n"
     ]
    },
    {
     "name": "stdout",
     "output_type": "stream",
     "text": [
      "Accuracy:  0.9825\n"
     ]
    }
   ],
   "source": [
    "rnd_clf = RandomForestClassifier(n_estimators=500, max_leaf_nodes=16, n_jobs=-1)\n",
    "rnd_clf.fit(X_train, y_train)\n",
    "\n",
    "y_pred_rf = rnd_clf.predict(X_test)\n",
    "print(\"Accuracy: \",accuracy_score(y_test, y_pred))"
   ]
  },
  {
   "cell_type": "markdown",
   "id": "203ee630",
   "metadata": {},
   "source": [
    "<h1>K Neighbors Classifier:"
   ]
  },
  {
   "cell_type": "code",
   "execution_count": 14,
   "id": "bc0e10bd",
   "metadata": {},
   "outputs": [
    {
     "data": {
      "text/plain": "        Deeded_Acreage  Year_of_Sale  Physical_Zip  Num_Stories  Bath  \\\n0                 0.21          1974       27610.0            1   2.0   \n1                 0.46          1983       27610.0            1   1.0   \n2                 0.46          2004       27591.0            1   2.0   \n3                 0.96          1971       27613.0            1   0.0   \n4                 0.47          2015       27607.0            1   2.0   \n...                ...           ...           ...          ...   ...   \n308287            0.19          2021       27540.0            0   3.0   \n308288            0.19          2021       27540.0            1   3.5   \n308289            0.19          2021       27540.0            0   3.0   \n308290            4.42          2021       27614.0            1   1.0   \n308291            0.12          2021       27513.0            1   0.0   \n\n        Total_Sale_Price  \n0                  34500  \n1                  35500  \n2                  37500  \n3                  70000  \n4                 380000  \n...                  ...  \n308287            440000  \n308288            464000  \n308289            431000  \n308290            100000  \n308291            356000  \n\n[306161 rows x 6 columns]",
      "text/html": "<div>\n<style scoped>\n    .dataframe tbody tr th:only-of-type {\n        vertical-align: middle;\n    }\n\n    .dataframe tbody tr th {\n        vertical-align: top;\n    }\n\n    .dataframe thead th {\n        text-align: right;\n    }\n</style>\n<table border=\"1\" class=\"dataframe\">\n  <thead>\n    <tr style=\"text-align: right;\">\n      <th></th>\n      <th>Deeded_Acreage</th>\n      <th>Year_of_Sale</th>\n      <th>Physical_Zip</th>\n      <th>Num_Stories</th>\n      <th>Bath</th>\n      <th>Total_Sale_Price</th>\n    </tr>\n  </thead>\n  <tbody>\n    <tr>\n      <th>0</th>\n      <td>0.21</td>\n      <td>1974</td>\n      <td>27610.0</td>\n      <td>1</td>\n      <td>2.0</td>\n      <td>34500</td>\n    </tr>\n    <tr>\n      <th>1</th>\n      <td>0.46</td>\n      <td>1983</td>\n      <td>27610.0</td>\n      <td>1</td>\n      <td>1.0</td>\n      <td>35500</td>\n    </tr>\n    <tr>\n      <th>2</th>\n      <td>0.46</td>\n      <td>2004</td>\n      <td>27591.0</td>\n      <td>1</td>\n      <td>2.0</td>\n      <td>37500</td>\n    </tr>\n    <tr>\n      <th>3</th>\n      <td>0.96</td>\n      <td>1971</td>\n      <td>27613.0</td>\n      <td>1</td>\n      <td>0.0</td>\n      <td>70000</td>\n    </tr>\n    <tr>\n      <th>4</th>\n      <td>0.47</td>\n      <td>2015</td>\n      <td>27607.0</td>\n      <td>1</td>\n      <td>2.0</td>\n      <td>380000</td>\n    </tr>\n    <tr>\n      <th>...</th>\n      <td>...</td>\n      <td>...</td>\n      <td>...</td>\n      <td>...</td>\n      <td>...</td>\n      <td>...</td>\n    </tr>\n    <tr>\n      <th>308287</th>\n      <td>0.19</td>\n      <td>2021</td>\n      <td>27540.0</td>\n      <td>0</td>\n      <td>3.0</td>\n      <td>440000</td>\n    </tr>\n    <tr>\n      <th>308288</th>\n      <td>0.19</td>\n      <td>2021</td>\n      <td>27540.0</td>\n      <td>1</td>\n      <td>3.5</td>\n      <td>464000</td>\n    </tr>\n    <tr>\n      <th>308289</th>\n      <td>0.19</td>\n      <td>2021</td>\n      <td>27540.0</td>\n      <td>0</td>\n      <td>3.0</td>\n      <td>431000</td>\n    </tr>\n    <tr>\n      <th>308290</th>\n      <td>4.42</td>\n      <td>2021</td>\n      <td>27614.0</td>\n      <td>1</td>\n      <td>1.0</td>\n      <td>100000</td>\n    </tr>\n    <tr>\n      <th>308291</th>\n      <td>0.12</td>\n      <td>2021</td>\n      <td>27513.0</td>\n      <td>1</td>\n      <td>0.0</td>\n      <td>356000</td>\n    </tr>\n  </tbody>\n</table>\n<p>306161 rows × 6 columns</p>\n</div>"
     },
     "execution_count": 14,
     "metadata": {},
     "output_type": "execute_result"
    }
   ],
   "source": [
    "features = wakeCounty.drop(['Is_Remodeled','Year_Built','Year_Remodeled'], axis=1)\n",
    "label = wakeCounty['Is_Remodeled']\n",
    "features"
   ]
  },
  {
   "cell_type": "code",
   "execution_count": 15,
   "id": "1c3bde13",
   "metadata": {},
   "outputs": [
    {
     "name": "stdout",
     "output_type": "stream",
     "text": [
      "['NO']\n"
     ]
    }
   ],
   "source": [
    "model = KNeighborsClassifier(n_neighbors=9)\n",
    "\n",
    "# Train the model using the training sets\n",
    "model.fit(features,label)\n",
    "\n",
    "#Predict Output\n",
    "predicted= model.predict([[.23,2000,27591.0,2,3.0, 400000]])\n",
    "print(predicted)\n"
   ]
  },
  {
   "cell_type": "markdown",
   "id": "105dfb04",
   "metadata": {},
   "source": [
    "<h1>Using the OvO Classifier:"
   ]
  },
  {
   "cell_type": "code",
   "execution_count": 16,
   "id": "d70ca6ce",
   "metadata": {},
   "outputs": [
    {
     "name": "stderr",
     "output_type": "stream",
     "text": [
      "/Users/saakethkoka/opt/anaconda3/lib/python3.8/site-packages/sklearn/utils/validation.py:72: DataConversionWarning: A column-vector y was passed when a 1d array was expected. Please change the shape of y to (n_samples, ), for example using ravel().\n",
      "  return f(**kwargs)\n",
      "/Users/saakethkoka/opt/anaconda3/lib/python3.8/site-packages/sklearn/svm/_base.py:976: ConvergenceWarning: Liblinear failed to converge, increase the number of iterations.\n",
      "  warnings.warn(\"Liblinear failed to converge, increase \"\n"
     ]
    },
    {
     "data": {
      "text/plain": "array([0., 0., 0., 0., 0., 0., 0., 0., 0., 0.])"
     },
     "execution_count": 16,
     "metadata": {},
     "output_type": "execute_result"
    }
   ],
   "source": [
    "ovo_clf = OneVsOneClassifier(LinearSVC(random_state=0)).fit(X_train, y_train)\n",
    "ovo_clf.predict(X_test[:10])"
   ]
  },
  {
   "cell_type": "code",
   "execution_count": 13,
   "outputs": [],
   "source": [],
   "metadata": {
    "collapsed": false,
    "pycharm": {
     "name": "#%%\n"
    }
   }
  },
  {
   "cell_type": "code",
   "execution_count": 29,
   "outputs": [
    {
     "data": {
      "text/plain": "count    3.061610e+05\nmean     2.732519e+05\nstd      1.897399e+05\nmin      0.000000e+00\n25%      1.500000e+05\n50%      2.350000e+05\n75%      3.500000e+05\nmax      6.100200e+06\nName: Total_Sale_Price, dtype: float64"
     },
     "execution_count": 29,
     "metadata": {},
     "output_type": "execute_result"
    }
   ],
   "source": [
    "wakeCounty.Total_Sale_Price.describe()"
   ],
   "metadata": {
    "collapsed": false,
    "pycharm": {
     "name": "#%%\n"
    }
   }
  },
  {
   "cell_type": "code",
   "execution_count": 33,
   "outputs": [],
   "source": [
    "def findCat(row):\n",
    "    if row['Total_Sale_Price'] <= 100000:\n",
    "        return \"<100000\"\n",
    "    elif row['Total_Sale_Price'] <= 200000:\n",
    "        return \"100000-200000\"\n",
    "    elif row['Total_Sale_Price'] <= 300000:\n",
    "        return \"200000-300000\"\n",
    "    elif row['Total_Sale_Price'] <= 400000:\n",
    "        return \"300000-400000\"\n",
    "    else:\n",
    "        return \">400000\"\n",
    "wakeCounty['Total_Sale_Price_Cat'] = wakeCounty.apply(lambda row: findCat(row), axis=1)"
   ],
   "metadata": {
    "collapsed": false,
    "pycharm": {
     "name": "#%%\n"
    }
   }
  },
  {
   "cell_type": "code",
   "execution_count": 36,
   "outputs": [],
   "source": [
    "labels = wakeCounty['Total_Sale_Price_Cat']\n",
    "params = wakeCounty.drop(['Total_Sale_Price_Cat','Total_Sale_Price'], axis=1)\n"
   ],
   "metadata": {
    "collapsed": false,
    "pycharm": {
     "name": "#%%\n"
    }
   }
  },
  {
   "cell_type": "code",
   "execution_count": 41,
   "outputs": [],
   "source": [
    "params.drop(['Is_Remodeled'], axis=1, inplace=True)"
   ],
   "metadata": {
    "collapsed": false,
    "pycharm": {
     "name": "#%%\n"
    }
   }
  },
  {
   "cell_type": "code",
   "execution_count": 45,
   "outputs": [],
   "source": [
    "model = RandomForestClassifier(n_estimators=20)\n",
    "kfold = StratifiedKFold(n_splits=10, shuffle=True, random_state=0)\n",
    "cv_results = cross_val_score(model, params, labels, cv=kfold, scoring='accuracy')"
   ],
   "metadata": {
    "collapsed": false,
    "pycharm": {
     "name": "#%%\n"
    }
   }
  },
  {
   "cell_type": "code",
   "execution_count": 46,
   "outputs": [
    {
     "data": {
      "text/plain": "0.7089635873290395"
     },
     "execution_count": 46,
     "metadata": {},
     "output_type": "execute_result"
    }
   ],
   "source": [
    "cv_results.mean()"
   ],
   "metadata": {
    "collapsed": false,
    "pycharm": {
     "name": "#%%\n"
    }
   }
  },
  {
   "cell_type": "code",
   "execution_count": 47,
   "outputs": [],
   "source": [],
   "metadata": {
    "collapsed": false,
    "pycharm": {
     "name": "#%%\n"
    }
   }
  },
  {
   "cell_type": "code",
   "execution_count": null,
   "outputs": [],
   "source": [],
   "metadata": {
    "collapsed": false,
    "pycharm": {
     "name": "#%%\n"
    }
   }
  }
 ],
 "metadata": {
  "kernelspec": {
   "display_name": "Python 3 (ipykernel)",
   "language": "python",
   "name": "python3"
  },
  "language_info": {
   "codemirror_mode": {
    "name": "ipython",
    "version": 3
   },
   "file_extension": ".py",
   "mimetype": "text/x-python",
   "name": "python",
   "nbconvert_exporter": "python",
   "pygments_lexer": "ipython3",
   "version": "3.9.7"
  }
 },
 "nbformat": 4,
 "nbformat_minor": 5
}