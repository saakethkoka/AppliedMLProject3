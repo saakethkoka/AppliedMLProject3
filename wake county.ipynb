{
 "cells": [
  {
   "cell_type": "code",
   "execution_count": 57,
   "id": "084e6851",
   "metadata": {},
   "outputs": [],
   "source": [
    "import os\n",
    "import scipy\n",
    "import sklearn\n",
    "import numpy as np\n",
    "import pandas as pd\n",
    "import matplotlib.pyplot as plt\n",
    "import math\n",
    "from sklearn.model_selection import train_test_split\n",
    "from sklearn.preprocessing import OrdinalEncoder\n",
    "from sklearn.preprocessing import StandardScaler\n",
    "from sklearn.linear_model import SGDClassifier\n",
    "from sklearn.ensemble import RandomForestClassifier\n",
    "from sklearn.metrics import accuracy_score\n",
    "from sklearn.model_selection import cross_val_score\n",
    "from sklearn.neighbors import KNeighborsClassifier\n",
    "from sklearn.multiclass import OneVsRestClassifier\n",
    "from sklearn.svm import LinearSVC\n",
    "from sklearn.svm import SVC\n",
    "from sklearn.model_selection import StratifiedKFold\n",
    "from sklearn.metrics import confusion_matrix\n",
    "import seaborn as sns\n",
    "from sklearn.metrics import roc_curve, auc\n",
    "\n",
    "\n",
    "import warnings\n",
    "warnings.simplefilter(action='ignore', category=FutureWarning)\n",
    "\n",
    "%matplotlib inline\n",
    "np.random.seed(42)"
   ]
  },
  {
   "cell_type": "markdown",
   "id": "300da68f",
   "metadata": {},
   "source": [
    "<h1>Importing the Dataset:"
   ]
  },
  {
   "cell_type": "code",
   "execution_count": 2,
   "id": "deb56398",
   "metadata": {},
   "outputs": [
    {
     "name": "stdout",
     "output_type": "stream",
     "text": [
      "<class 'pandas.core.frame.DataFrame'>\n",
      "RangeIndex: 308292 entries, 0 to 308291\n",
      "Data columns (total 15 columns):\n",
      " #   Column              Non-Null Count   Dtype  \n",
      "---  ------              --------------   -----  \n",
      " 0   Real_Estate_Id      308292 non-null  int64  \n",
      " 1   Deeded_Acreage      308292 non-null  float64\n",
      " 2   Year_of_Sale        308292 non-null  int64  \n",
      " 3   Physical_Zip        308146 non-null  float64\n",
      " 4   Year_Built          308292 non-null  int64  \n",
      " 5   Physical_City       308183 non-null  object \n",
      " 6   Total_Sale_Date     308292 non-null  object \n",
      " 7   Month_Year_of_Sale  308292 non-null  object \n",
      " 8   Year_Remodeled      308292 non-null  int64  \n",
      " 9   Heated_Area         308292 non-null  int64  \n",
      " 10  Num_Stories         308292 non-null  object \n",
      " 11  Design_Style        308292 non-null  object \n",
      " 12  Bath                308275 non-null  object \n",
      " 13  Utilities           306324 non-null  object \n",
      " 14  Total_Sale_Price    308292 non-null  int64  \n",
      "dtypes: float64(2), int64(6), object(7)\n",
      "memory usage: 35.3+ MB\n",
      "CPU times: user 559 ms, sys: 124 ms, total: 683 ms\n",
      "Wall time: 692 ms\n"
     ]
    }
   ],
   "source": [
    "%%time\n",
    "wakeCounty = pd.read_csv(\"WakeCountyHousing.csv\")\n",
    "wakeCounty = wakeCounty[['Real_Estate_Id','Deeded_Acreage','Year_of_Sale','Physical_Zip',\n",
    "                         'Year_Built','Physical_City','Total_Sale_Date','Month_Year_of_Sale',\n",
    "                         'Year_Remodeled','Heated_Area','Num_Stories','Design_Style','Bath',\n",
    "                         'Utilities','Total_Sale_Price']]\n",
    "wakeCounty.info()"
   ]
  },
  {
   "cell_type": "markdown",
   "id": "ed26f8d9",
   "metadata": {},
   "source": [
    "<h1>Cleaning the Data and Data Preparation:"
   ]
  },
  {
   "cell_type": "code",
   "execution_count": 3,
   "id": "4372fb39",
   "metadata": {},
   "outputs": [],
   "source": [
    "#Dropping all the columns that have NaN as a part of them\n",
    "wakeCounty = wakeCounty.dropna()"
   ]
  },
  {
   "cell_type": "code",
   "execution_count": 4,
   "id": "4fff79b5",
   "metadata": {},
   "outputs": [],
   "source": [
    "wakeCounty = wakeCounty.drop(['Month_Year_of_Sale','Total_Sale_Date','Design_Style',\n",
    "                              'Real_Estate_Id','Physical_City','Total_Sale_Date','Month_Year_of_Sale',\n",
    "                              'Heated_Area','Design_Style','Utilities'], axis=1)"
   ]
  },
  {
   "cell_type": "code",
   "execution_count": 16,
   "id": "979823b0",
   "metadata": {},
   "outputs": [],
   "source": [
    "num_stories_cat = wakeCounty[[\"Num_Stories\"]]\n",
    "ordinal_encoder = OrdinalEncoder()\n",
    "num_stories_cat_encoded = ordinal_encoder.fit_transform(num_stories_cat)\n",
    "wakeCounty = wakeCounty.drop(['Num_Stories'], axis=1)\n",
    "wakeCounty[\"Num_Stories_cat\"] = num_stories_cat_encoded\n",
    "\n",
    "wakeCounty['Bath'] = wakeCounty['Bath'].replace(['2 Bath'],2)\n",
    "wakeCounty['Bath'] = wakeCounty['Bath'].replace(['1 Bath'],1)\n",
    "wakeCounty['Bath'] = wakeCounty['Bath'].replace(['Other'],0)\n",
    "wakeCounty['Bath'] = wakeCounty['Bath'].replace(['3 Bath'],3)\n",
    "wakeCounty['Bath'] = wakeCounty['Bath'].replace(['3½ Bath'],3.5)\n",
    "wakeCounty['Bath'] = wakeCounty['Bath'].replace(['1 ½ Bath'],1.5)\n",
    "wakeCounty['Bath'] = wakeCounty['Bath'].replace(['2½ Bath'],2.5)"
   ]
  },
  {
   "cell_type": "code",
   "execution_count": 14,
   "id": "544f4cd8",
   "metadata": {},
   "outputs": [],
   "source": [
    "def findCat(row):\n",
    "    if row['Total_Sale_Price'] <= 100000:\n",
    "        return \"<100000\"\n",
    "    elif row['Total_Sale_Price'] <= 200000:\n",
    "        return \"100000-200000\"\n",
    "    elif row['Total_Sale_Price'] <= 300000:\n",
    "        return \"200000-300000\"\n",
    "    elif row['Total_Sale_Price'] <= 400000:\n",
    "        return \"300000-400000\"\n",
    "    else:\n",
    "        return \">400000\"\n",
    "wakeCounty['Total_Sale_Price_Cat'] = wakeCounty.apply(lambda row: findCat(row), axis=1)"
   ]
  },
  {
   "cell_type": "code",
   "execution_count": 17,
   "id": "a08261b8",
   "metadata": {},
   "outputs": [
    {
     "name": "stdout",
     "output_type": "stream",
     "text": [
      "<class 'pandas.core.frame.DataFrame'>\n",
      "Int64Index: 306161 entries, 0 to 308291\n",
      "Data columns (total 9 columns):\n",
      " #   Column                Non-Null Count   Dtype  \n",
      "---  ------                --------------   -----  \n",
      " 0   Deeded_Acreage        306161 non-null  float64\n",
      " 1   Year_of_Sale          306161 non-null  int64  \n",
      " 2   Physical_Zip          306161 non-null  float64\n",
      " 3   Year_Built            306161 non-null  int64  \n",
      " 4   Year_Remodeled        306161 non-null  int64  \n",
      " 5   Bath                  306161 non-null  float64\n",
      " 6   Total_Sale_Price      306161 non-null  int64  \n",
      " 7   Total_Sale_Price_Cat  306161 non-null  object \n",
      " 8   Num_Stories_cat       306161 non-null  float64\n",
      "dtypes: float64(4), int64(4), object(1)\n",
      "memory usage: 31.4+ MB\n"
     ]
    }
   ],
   "source": [
    "wakeCounty.info()"
   ]
  },
  {
   "cell_type": "markdown",
   "id": "32cafcae",
   "metadata": {},
   "source": [
    "<h1>Splitting into Test and Training Data:"
   ]
  },
  {
   "cell_type": "code",
   "execution_count": 18,
   "id": "ebb22246",
   "metadata": {},
   "outputs": [],
   "source": [
    "X_train, X_test, y_train, y_test = train_test_split(wakeCounty.drop([\"Total_Sale_Price_Cat\",\"Total_Sale_Price\"], axis=1), \n",
    "                                                    wakeCounty[\"Total_Sale_Price_Cat\"], test_size=0.3, random_state=42)\n",
    "X_train = X_train[:1000]\n",
    "y_train = y_train[:1000]\n",
    "X_test = X_test[:400]\n",
    "y_test = y_test[:400]"
   ]
  },
  {
   "cell_type": "markdown",
   "id": "5bcd7ff4",
   "metadata": {},
   "source": [
    "<h1>SGD Classifier:"
   ]
  },
  {
   "cell_type": "code",
   "execution_count": 26,
   "id": "59a15458",
   "metadata": {},
   "outputs": [
    {
     "name": "stderr",
     "output_type": "stream",
     "text": [
      "/Users/grantstoehr/opt/anaconda3/lib/python3.9/site-packages/sklearn/linear_model/_stochastic_gradient.py:574: ConvergenceWarning: Maximum number of iteration reached before convergence. Consider increasing max_iter to improve the fit.\n",
      "  warnings.warn(\"Maximum number of iteration reached before \"\n",
      "/Users/grantstoehr/opt/anaconda3/lib/python3.9/site-packages/sklearn/linear_model/_stochastic_gradient.py:574: ConvergenceWarning: Maximum number of iteration reached before convergence. Consider increasing max_iter to improve the fit.\n",
      "  warnings.warn(\"Maximum number of iteration reached before \"\n",
      "/Users/grantstoehr/opt/anaconda3/lib/python3.9/site-packages/sklearn/linear_model/_stochastic_gradient.py:574: ConvergenceWarning: Maximum number of iteration reached before convergence. Consider increasing max_iter to improve the fit.\n",
      "  warnings.warn(\"Maximum number of iteration reached before \"\n",
      "/Users/grantstoehr/opt/anaconda3/lib/python3.9/site-packages/sklearn/linear_model/_stochastic_gradient.py:574: ConvergenceWarning: Maximum number of iteration reached before convergence. Consider increasing max_iter to improve the fit.\n",
      "  warnings.warn(\"Maximum number of iteration reached before \"\n",
      "/Users/grantstoehr/opt/anaconda3/lib/python3.9/site-packages/sklearn/linear_model/_stochastic_gradient.py:574: ConvergenceWarning: Maximum number of iteration reached before convergence. Consider increasing max_iter to improve the fit.\n",
      "  warnings.warn(\"Maximum number of iteration reached before \"\n",
      "/Users/grantstoehr/opt/anaconda3/lib/python3.9/site-packages/sklearn/linear_model/_stochastic_gradient.py:574: ConvergenceWarning: Maximum number of iteration reached before convergence. Consider increasing max_iter to improve the fit.\n",
      "  warnings.warn(\"Maximum number of iteration reached before \"\n",
      "/Users/grantstoehr/opt/anaconda3/lib/python3.9/site-packages/sklearn/linear_model/_stochastic_gradient.py:574: ConvergenceWarning: Maximum number of iteration reached before convergence. Consider increasing max_iter to improve the fit.\n",
      "  warnings.warn(\"Maximum number of iteration reached before \"\n",
      "/Users/grantstoehr/opt/anaconda3/lib/python3.9/site-packages/sklearn/linear_model/_stochastic_gradient.py:574: ConvergenceWarning: Maximum number of iteration reached before convergence. Consider increasing max_iter to improve the fit.\n",
      "  warnings.warn(\"Maximum number of iteration reached before \"\n"
     ]
    }
   ],
   "source": [
    "SGDmodel = SGDClassifier(random_state=42, max_iter=100)\n",
    "kfold = StratifiedKFold(n_splits=10, shuffle=True, random_state=0)\n",
    "SGDmodel_results = cross_val_score(SGDmodel, X_train, y_train, cv=kfold, scoring='accuracy')"
   ]
  },
  {
   "cell_type": "code",
   "execution_count": 27,
   "id": "211578d3",
   "metadata": {},
   "outputs": [
    {
     "data": {
      "text/plain": [
       "0.215"
      ]
     },
     "execution_count": 27,
     "metadata": {},
     "output_type": "execute_result"
    }
   ],
   "source": [
    "SGDmodel_results.mean()"
   ]
  },
  {
   "cell_type": "markdown",
   "id": "f8b6fa10",
   "metadata": {},
   "source": [
    "<h1>Random Forest Classifier:"
   ]
  },
  {
   "cell_type": "code",
   "execution_count": 41,
   "id": "5a98537d",
   "metadata": {
    "pycharm": {
     "name": "#%%\n"
    }
   },
   "outputs": [],
   "source": [
    "RFCmodel = RandomForestClassifier(n_estimators=20)\n",
    "kfold = StratifiedKFold(n_splits=10, shuffle=True, random_state=0)\n",
    "RFCmodel_results = cross_val_score(RFCmodel, X_train, y_train, cv=kfold, scoring='accuracy')"
   ]
  },
  {
   "cell_type": "code",
   "execution_count": 42,
   "id": "a6a2e6dd",
   "metadata": {
    "pycharm": {
     "name": "#%%\n"
    }
   },
   "outputs": [
    {
     "data": {
      "text/plain": [
       "0.57"
      ]
     },
     "execution_count": 42,
     "metadata": {},
     "output_type": "execute_result"
    }
   ],
   "source": [
    "RFCmodel_results.mean()"
   ]
  },
  {
   "cell_type": "markdown",
   "id": "0242ca8c",
   "metadata": {},
   "source": [
    "<h1>Random Forest Confusion Matrix:"
   ]
  },
  {
   "cell_type": "code",
   "execution_count": 47,
   "id": "533f5d49",
   "metadata": {},
   "outputs": [
    {
     "data": {
      "text/plain": [
       "<AxesSubplot:>"
      ]
     },
     "execution_count": 47,
     "metadata": {},
     "output_type": "execute_result"
    },
    {
     "data": {
      "image/png": "[encoded data removed]",
      "text/plain": [
       "<Figure size 432x288 with 2 Axes>"
      ]
     },
     "metadata": {
      "needs_background": "light"
     },
     "output_type": "display_data"
    }
   ],
   "source": [
    "RFCmodel = RandomForestClassifier(n_estimators=20)\n",
    "\n",
    "RFCmodel.fit(X_train, y_train)\n",
    "\n",
    "y_pred = RFCmodel.predict(X_test)\n",
    "\n",
    "cf_matrix = confusion_matrix(y_test, y_pred)\n",
    "sns.heatmap(cf_matrix/np.sum(cf_matrix), annot=True, \n",
    "            fmt='.2%', cmap='Blues')"
   ]
  },
  {
   "cell_type": "markdown",
   "id": "203ee630",
   "metadata": {},
   "source": [
    "<h1>K Neighbors Classifier:"
   ]
  },
  {
   "cell_type": "code",
   "execution_count": 32,
   "id": "1c3bde13",
   "metadata": {},
   "outputs": [],
   "source": [
    "KNCmodel = KNeighborsClassifier(n_neighbors=9)\n",
    "kfold = StratifiedKFold(n_splits=10, shuffle=True, random_state=0)\n",
    "KNCmodel_results = cross_val_score(KNCmodel, X_train, y_train, cv=kfold, scoring='accuracy')"
   ]
  },
  {
   "cell_type": "code",
   "execution_count": 33,
   "id": "4bf7984f",
   "metadata": {
    "pycharm": {
     "name": "#%%\n"
    }
   },
   "outputs": [
    {
     "data": {
      "text/plain": [
       "0.43499999999999994"
      ]
     },
     "execution_count": 33,
     "metadata": {},
     "output_type": "execute_result"
    }
   ],
   "source": [
    "KNCmodel_results.mean()"
   ]
  },
  {
   "cell_type": "markdown",
   "id": "a87d31f5",
   "metadata": {},
   "source": [
    "<h1>K Neighbors Classifier on an ROC curve:"
   ]
  },
  {
   "cell_type": "code",
   "execution_count": 65,
   "id": "eddb6013",
   "metadata": {},
   "outputs": [
    {
     "name": "stdout",
     "output_type": "stream",
     "text": [
      "[0.5  0.35 0.43 0.46 0.39 0.39 0.53 0.49 0.45 0.4 ]\n",
      "cv_scores mean:0.43900000000000006\n"
     ]
    },
    {
     "ename": "ValueError",
     "evalue": "multiclass format is not supported",
     "output_type": "error",
     "traceback": [
      "\u001b[0;31m---------------------------------------------------------------------------\u001b[0m",
      "\u001b[0;31mValueError\u001b[0m                                Traceback (most recent call last)",
      "\u001b[0;32m/var/folders/w3/k8jhjkk90wd5r6fqsc4_j49c0000gn/T/ipykernel_4031/738204238.py\u001b[0m in \u001b[0;36m<module>\u001b[0;34m\u001b[0m\n\u001b[1;32m      7\u001b[0m \u001b[0;34m\u001b[0m\u001b[0m\n\u001b[1;32m      8\u001b[0m \u001b[0my_scores\u001b[0m \u001b[0;34m=\u001b[0m \u001b[0mcross_val_score\u001b[0m\u001b[0;34m(\u001b[0m\u001b[0mKNCmodel\u001b[0m\u001b[0;34m,\u001b[0m \u001b[0mX_train\u001b[0m\u001b[0;34m,\u001b[0m \u001b[0my_train\u001b[0m\u001b[0;34m,\u001b[0m \u001b[0mcv\u001b[0m\u001b[0;34m=\u001b[0m\u001b[0;36m76\u001b[0m\u001b[0;34m)\u001b[0m\u001b[0;34m\u001b[0m\u001b[0;34m\u001b[0m\u001b[0m\n\u001b[0;32m----> 9\u001b[0;31m \u001b[0mfpr\u001b[0m\u001b[0;34m,\u001b[0m \u001b[0mtpr\u001b[0m\u001b[0;34m,\u001b[0m \u001b[0mthreshold\u001b[0m \u001b[0;34m=\u001b[0m \u001b[0mroc_curve\u001b[0m\u001b[0;34m(\u001b[0m\u001b[0my_test\u001b[0m\u001b[0;34m,\u001b[0m \u001b[0my_scores\u001b[0m\u001b[0;34m)\u001b[0m\u001b[0;34m\u001b[0m\u001b[0;34m\u001b[0m\u001b[0m\n\u001b[0m\u001b[1;32m     10\u001b[0m \u001b[0mroc_auc\u001b[0m \u001b[0;34m=\u001b[0m \u001b[0mauc\u001b[0m\u001b[0;34m(\u001b[0m\u001b[0mfpr\u001b[0m\u001b[0;34m,\u001b[0m \u001b[0mtpr\u001b[0m\u001b[0;34m)\u001b[0m\u001b[0;34m\u001b[0m\u001b[0;34m\u001b[0m\u001b[0m\n\u001b[1;32m     11\u001b[0m \u001b[0mprint\u001b[0m\u001b[0;34m(\u001b[0m\u001b[0mroc_auc\u001b[0m\u001b[0;34m)\u001b[0m\u001b[0;34m\u001b[0m\u001b[0;34m\u001b[0m\u001b[0m\n",
      "\u001b[0;32m~/opt/anaconda3/lib/python3.9/site-packages/sklearn/utils/validation.py\u001b[0m in \u001b[0;36minner_f\u001b[0;34m(*args, **kwargs)\u001b[0m\n\u001b[1;32m     61\u001b[0m             \u001b[0mextra_args\u001b[0m \u001b[0;34m=\u001b[0m \u001b[0mlen\u001b[0m\u001b[0;34m(\u001b[0m\u001b[0margs\u001b[0m\u001b[0;34m)\u001b[0m \u001b[0;34m-\u001b[0m \u001b[0mlen\u001b[0m\u001b[0;34m(\u001b[0m\u001b[0mall_args\u001b[0m\u001b[0;34m)\u001b[0m\u001b[0;34m\u001b[0m\u001b[0;34m\u001b[0m\u001b[0m\n\u001b[1;32m     62\u001b[0m             \u001b[0;32mif\u001b[0m \u001b[0mextra_args\u001b[0m \u001b[0;34m<=\u001b[0m \u001b[0;36m0\u001b[0m\u001b[0;34m:\u001b[0m\u001b[0;34m\u001b[0m\u001b[0;34m\u001b[0m\u001b[0m\n\u001b[0;32m---> 63\u001b[0;31m                 \u001b[0;32mreturn\u001b[0m \u001b[0mf\u001b[0m\u001b[0;34m(\u001b[0m\u001b[0;34m*\u001b[0m\u001b[0margs\u001b[0m\u001b[0;34m,\u001b[0m \u001b[0;34m**\u001b[0m\u001b[0mkwargs\u001b[0m\u001b[0;34m)\u001b[0m\u001b[0;34m\u001b[0m\u001b[0;34m\u001b[0m\u001b[0m\n\u001b[0m\u001b[1;32m     64\u001b[0m \u001b[0;34m\u001b[0m\u001b[0m\n\u001b[1;32m     65\u001b[0m             \u001b[0;31m# extra_args > 0\u001b[0m\u001b[0;34m\u001b[0m\u001b[0;34m\u001b[0m\u001b[0m\n",
      "\u001b[0;32m~/opt/anaconda3/lib/python3.9/site-packages/sklearn/metrics/_ranking.py\u001b[0m in \u001b[0;36mroc_curve\u001b[0;34m(y_true, y_score, pos_label, sample_weight, drop_intermediate)\u001b[0m\n\u001b[1;32m    911\u001b[0m \u001b[0;34m\u001b[0m\u001b[0m\n\u001b[1;32m    912\u001b[0m     \"\"\"\n\u001b[0;32m--> 913\u001b[0;31m     fps, tps, thresholds = _binary_clf_curve(\n\u001b[0m\u001b[1;32m    914\u001b[0m         y_true, y_score, pos_label=pos_label, sample_weight=sample_weight)\n\u001b[1;32m    915\u001b[0m \u001b[0;34m\u001b[0m\u001b[0m\n",
      "\u001b[0;32m~/opt/anaconda3/lib/python3.9/site-packages/sklearn/metrics/_ranking.py\u001b[0m in \u001b[0;36m_binary_clf_curve\u001b[0;34m(y_true, y_score, pos_label, sample_weight)\u001b[0m\n\u001b[1;32m    689\u001b[0m     if not (y_type == \"binary\" or\n\u001b[1;32m    690\u001b[0m             (y_type == \"multiclass\" and pos_label is not None)):\n\u001b[0;32m--> 691\u001b[0;31m         \u001b[0;32mraise\u001b[0m \u001b[0mValueError\u001b[0m\u001b[0;34m(\u001b[0m\u001b[0;34m\"{0} format is not supported\"\u001b[0m\u001b[0;34m.\u001b[0m\u001b[0mformat\u001b[0m\u001b[0;34m(\u001b[0m\u001b[0my_type\u001b[0m\u001b[0;34m)\u001b[0m\u001b[0;34m)\u001b[0m\u001b[0;34m\u001b[0m\u001b[0;34m\u001b[0m\u001b[0m\n\u001b[0m\u001b[1;32m    692\u001b[0m \u001b[0;34m\u001b[0m\u001b[0m\n\u001b[1;32m    693\u001b[0m     \u001b[0mcheck_consistent_length\u001b[0m\u001b[0;34m(\u001b[0m\u001b[0my_true\u001b[0m\u001b[0;34m,\u001b[0m \u001b[0my_score\u001b[0m\u001b[0;34m,\u001b[0m \u001b[0msample_weight\u001b[0m\u001b[0;34m)\u001b[0m\u001b[0;34m\u001b[0m\u001b[0;34m\u001b[0m\u001b[0m\n",
      "\u001b[0;31mValueError\u001b[0m: multiclass format is not supported"
     ]
    }
   ],
   "source": [
    "KNCmodel = KNeighborsClassifier(n_neighbors=9)\n",
    "KNCmodel.fit(X_train, y_train)\n",
    "\n",
    "KNCmodel_scores = cross_val_score(KNCmodel, X_train, y_train, cv=10)\n",
    "print(KNCmodel_scores)\n",
    "print('cv_scores mean:{}' .format(np.mean(KNCmodel_scores)))\n",
    "\n",
    "y_scores = cross_val_score(KNCmodel, X_train, y_train, cv=76)\n",
    "fpr, tpr, threshold = roc_curve(y_test, y_scores)\n",
    "roc_auc = auc(fpr, tpr)\n",
    "print(roc_auc)\n",
    "\n",
    "plt.title('Receiver Operating Characteristic')\n",
    "plt.plot(fpr, tpr, 'b', label = 'AUC = %0.2f' % roc_auc)\n",
    "plt.legend(loc = 'lower right')\n",
    "plt.plot([0, 1], [0, 1],'r--')\n",
    "plt.xlim([0, 1])\n",
    "plt.ylim([0, 1])\n",
    "plt.ylabel('True Positive Rate')\n",
    "plt.xlabel('False Positive Rate')\n",
    "plt.title('ROC Curve of kNN')\n",
    "plt.show()"
   ]
  },
  {
   "cell_type": "markdown",
   "id": "64144c87",
   "metadata": {
    "pycharm": {
     "name": "#%%\n"
    }
   },
   "source": [
    "<h1>OvR Classifier:"
   ]
  },
  {
   "cell_type": "code",
   "execution_count": 36,
   "id": "8b77fc49",
   "metadata": {},
   "outputs": [],
   "source": [
    "OvRmodel = OneVsRestClassifier(SVC())\n",
    "kfold = StratifiedKFold(n_splits=10, shuffle=True, random_state=0)\n",
    "OvRmodel_results = cross_val_score(OvRmodel, X_train, y_train, cv=kfold, scoring='accuracy')"
   ]
  },
  {
   "cell_type": "code",
   "execution_count": 37,
   "id": "a2e3131d",
   "metadata": {},
   "outputs": [
    {
     "data": {
      "text/plain": [
       "0.259"
      ]
     },
     "execution_count": 37,
     "metadata": {},
     "output_type": "execute_result"
    }
   ],
   "source": [
    "OvRmodel_results.mean()"
   ]
  },
  {
   "cell_type": "code",
   "execution_count": null,
   "id": "d990d92a",
   "metadata": {},
   "outputs": [],
   "source": []
  }
 ],
 "metadata": {
  "kernelspec": {
   "display_name": "Python 3 (ipykernel)",
   "language": "python",
   "name": "python3"
  },
  "language_info": {
   "codemirror_mode": {
    "name": "ipython",
    "version": 3
   },
   "file_extension": ".py",
   "mimetype": "text/x-python",
   "name": "python",
   "nbconvert_exporter": "python",
   "pygments_lexer": "ipython3",
   "version": "3.9.7"
  }
 },
 "nbformat": 4,
 "nbformat_minor": 5
}
