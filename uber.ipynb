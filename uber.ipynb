{
 "cells": [
  {
   "cell_type": "code",
   "execution_count": 52,
   "metadata": {
    "pycharm": {
     "name": "#%%\n"
    }
   },
   "outputs": [],
   "source": [
    "import pandas as pd\n",
    "import plotly.express as px\n",
    "from numpy.random import randint\n",
    "from sklearn.base import BaseEstimator, TransformerMixin\n",
    "from sklearn.pipeline import Pipeline\n",
    "import math\n",
    "import geopy.distance\n",
    "from sklearn.linear_model import LinearRegression\n",
    "from datetime import datetime, timedelta, timezone\n",
    "from sklearn.model_selection import train_test_split\n",
    "from sklearn.preprocessing import OneHotEncoder\n",
    "from sklearn.compose import ColumnTransformer\n",
    "from sklearn.ensemble import RandomForestRegressor\n",
    "from sklearn.model_selection import cross_val_score"
   ]
  },
  {
   "cell_type": "markdown",
   "metadata": {
    "pycharm": {
     "name": "#%% md\n"
    }
   },
   "source": [
    "# Importing the dataset"
   ]
  },
  {
   "cell_type": "code",
   "execution_count": 42,
   "metadata": {
    "pycharm": {
     "name": "#%%\n"
    }
   },
   "outputs": [
    {
     "name": "stdout",
     "output_type": "stream",
     "text": [
      "CPU times: user 695 ms, sys: 134 ms, total: 830 ms\n",
      "Wall time: 863 ms\n"
     ]
    }
   ],
   "source": [
    "%%time\n",
    "uber = pd.read_csv(\"uber.csv\")"
   ]
  },
  {
   "cell_type": "markdown",
   "metadata": {
    "pycharm": {
     "name": "#%% md\n"
    }
   },
   "source": [
    "# Cleaning the data:\n",
    "Some latitude and longitude coordinates are not in this world so they are removed"
   ]
  },
  {
   "cell_type": "markdown",
   "metadata": {
    "pycharm": {
     "name": "#%% md\n"
    }
   },
   "source": [
    "After removing the impossible data points, we can see that there are still some latitude and longitude coordinates that are far from the others, some in Antartica and some in the ocean, while the vast majority of the data points are near New York."
   ]
  },
  {
   "cell_type": "markdown",
   "source": [
    "In order to remove these points we will remove points which have > 2 standard deviations from the mean in both longitude and latitude."
   ],
   "metadata": {
    "collapsed": false,
    "pycharm": {
     "name": "#%% md\n"
    }
   }
  },
  {
   "cell_type": "code",
   "execution_count": 43,
   "outputs": [],
   "source": [
    "# fig = figpx.scatter_geo(uber, lon=\"pickup_longitude\", lat=\"pickup_latitude\")\n",
    "# fig.show()"
   ],
   "metadata": {
    "collapsed": false,
    "pycharm": {
     "name": "#%%\n"
    }
   }
  },
  {
   "cell_type": "code",
   "execution_count": 44,
   "outputs": [],
   "source": [
    "class CalculateDistanceTraveled(BaseEstimator, TransformerMixin):\n",
    "    def calc_distance(self, x):\n",
    "        coords_1 = (x.pickup_latitude, x.pickup_longitude)\n",
    "        coords_2 = (x.dropoff_latitude, x.dropoff_longitude)\n",
    "        try:\n",
    "            miles = geopy.distance.distance(coords_1, coords_2).miles\n",
    "        except:\n",
    "            return -1\n",
    "        return miles\n",
    "    def fit(self, X, y=None):\n",
    "        return self\n",
    "    def transform(self, X, y=None):\n",
    "        X[\"distance_traveled\"] = X.apply(lambda x : self.calc_distance(x), axis=1)\n",
    "        return X"
   ],
   "metadata": {
    "collapsed": false,
    "pycharm": {
     "name": "#%%\n"
    }
   }
  },
  {
   "cell_type": "code",
   "execution_count": 45,
   "outputs": [],
   "source": [
    "class RemoveOutliers(BaseEstimator, TransformerMixin):\n",
    "    def __init__(self, column_name):\n",
    "        self.column_name = column_name\n",
    "    def fit(self, X, y=None):\n",
    "        return self\n",
    "    def transform(self, X, y=None):\n",
    "        mean = X[self.column_name].mean()\n",
    "        std = X[self.column_name].std()\n",
    "        X = X[(X[self.column_name] < mean + 3*std) & (X[self.column_name] > mean - 3*std)]\n",
    "        return X"
   ],
   "metadata": {
    "collapsed": false,
    "pycharm": {
     "name": "#%%\n"
    }
   }
  },
  {
   "cell_type": "code",
   "execution_count": 46,
   "outputs": [],
   "source": [
    "class CalculateDistanceTraveled(BaseEstimator, TransformerMixin):\n",
    "    def calc_distance(self, x):\n",
    "        coords_1 = (x.pickup_latitude, x.pickup_longitude)\n",
    "        coords_2 = (x.dropoff_latitude, x.dropoff_longitude)\n",
    "        try:\n",
    "            miles = geopy.distance.distance(coords_1, coords_2).miles\n",
    "        except:\n",
    "            return -1\n",
    "        return miles\n",
    "    def fit(self, X, y=None):\n",
    "        return self\n",
    "    def transform(self, X, y=None):\n",
    "        X[\"distance_traveled\"] = X.apply(lambda x : self.calc_distance(x), axis=1)\n",
    "        return X"
   ],
   "metadata": {
    "collapsed": false,
    "pycharm": {
     "name": "#%%\n"
    }
   }
  },
  {
   "cell_type": "code",
   "execution_count": 47,
   "outputs": [],
   "source": [
    "class TransformDateTime(BaseEstimator, TransformerMixin):\n",
    "    def __init__(self, column_name):\n",
    "        self.column_name = column_name\n",
    "    def fit(self, X, y=None):\n",
    "        return self\n",
    "    def transform(self, X, y=None):\n",
    "        X[self.column_name] = pd.to_datetime(X[self.column_name])\n",
    "        return X"
   ],
   "metadata": {
    "collapsed": false,
    "pycharm": {
     "name": "#%%\n"
    }
   }
  },
  {
   "cell_type": "code",
   "execution_count": 48,
   "outputs": [],
   "source": [
    "class ExtractWeekday(BaseEstimator, TransformerMixin):\n",
    "    def fit(self, X, y=None):\n",
    "        return self\n",
    "    def transform(self, X, y=None):\n",
    "        X[\"weekday\"] = X[\"pickup_datetime\"].dt.weekday\n",
    "        return X"
   ],
   "metadata": {
    "collapsed": false,
    "pycharm": {
     "name": "#%%\n"
    }
   }
  },
  {
   "cell_type": "code",
   "execution_count": 49,
   "outputs": [],
   "source": [
    "pipeline = Pipeline([\n",
    "    (\"RemoveOutliers-pickup_longitude\", RemoveOutliers(\"pickup_longitude\")),\n",
    "    (\"RemoveOutliers-pickup_latitude\", RemoveOutliers(\"pickup_latitude\")),\n",
    "    (\"RemoveOutliers-dropoff_latitude\", RemoveOutliers(\"dropoff_latitude\")),\n",
    "    (\"RemoveOutliers-dropoff_longitude\", RemoveOutliers(\"dropoff_longitude\")),\n",
    "    (\"CalculateDistanceTraveled\", CalculateDistanceTraveled()),\n",
    "    (\"CustomTransformer_CalculatingDistanceTraveled\", CalculateDistanceTraveled()),\n",
    "    (\"RemovingOutliers-distance_traveled\", RemoveOutliers(\"distance_traveled\")),\n",
    "    (\"TransformDateTime-pickup_datetime\", TransformDateTime(\"pickup_datetime\")),\n",
    "    (\"ExtractWeekday\", ExtractWeekday()),\n",
    "    (\"OneHotEncoder\", OneHotEncoder(sparse=False)),\n",
    "])"
   ],
   "metadata": {
    "collapsed": false,
    "pycharm": {
     "name": "#%%\n"
    }
   }
  },
  {
   "cell_type": "code",
   "execution_count": 50,
   "outputs": [
    {
     "name": "stdout",
     "output_type": "stream",
     "text": [
      "CPU times: user 2min 38s, sys: 946 ms, total: 2min 39s\n",
      "Wall time: 2min 40s\n"
     ]
    }
   ],
   "source": [
    "%%time\n",
    "uber = pipeline.fit_transform(uber)"
   ],
   "metadata": {
    "collapsed": false,
    "pycharm": {
     "name": "#%%\n"
    }
   }
  },
  {
   "cell_type": "markdown",
   "source": [
    "# Modelling"
   ],
   "metadata": {
    "collapsed": false,
    "pycharm": {
     "name": "#%% md\n"
    }
   }
  },
  {
   "cell_type": "code",
   "execution_count": 57,
   "outputs": [],
   "source": [
    "target = uber.fare_amount\n",
    "params = uber.drop([\"fare_amount\"], axis=1)"
   ],
   "metadata": {
    "collapsed": false,
    "pycharm": {
     "name": "#%%\n"
    }
   }
  },
  {
   "cell_type": "code",
   "execution_count": 51,
   "outputs": [
    {
     "data": {
      "text/plain": "        Unnamed: 0                            key  fare_amount  \\\n0         24238194    2015-05-07 19:52:06.0000003          7.5   \n1         27835199    2009-07-17 20:04:56.0000002          7.7   \n2         44984355   2009-08-24 21:45:00.00000061         12.9   \n3         25894730    2009-06-26 08:22:21.0000001          5.3   \n4         17610152  2014-08-28 17:47:00.000000188         16.0   \n...            ...                            ...          ...   \n199995    42598914   2012-10-28 10:49:00.00000053          3.0   \n199996    16382965    2014-03-14 01:09:00.0000008          7.5   \n199997    27804658   2009-06-29 00:42:00.00000078         30.9   \n199998    20259894    2015-05-20 14:56:25.0000004         14.5   \n199999    11951496   2010-05-15 04:08:00.00000076         14.1   \n\n                 pickup_datetime  pickup_longitude  pickup_latitude  \\\n0      2015-05-07 19:52:06+00:00        -73.999817        40.738354   \n1      2009-07-17 20:04:56+00:00        -73.994355        40.728225   \n2      2009-08-24 21:45:00+00:00        -74.005043        40.740770   \n3      2009-06-26 08:22:21+00:00        -73.976124        40.790844   \n4      2014-08-28 17:47:00+00:00        -73.925023        40.744085   \n...                          ...               ...              ...   \n199995 2012-10-28 10:49:00+00:00        -73.987042        40.739367   \n199996 2014-03-14 01:09:00+00:00        -73.984722        40.736837   \n199997 2009-06-29 00:42:00+00:00        -73.986017        40.756487   \n199998 2015-05-20 14:56:25+00:00        -73.997124        40.725452   \n199999 2010-05-15 04:08:00+00:00        -73.984395        40.720077   \n\n        dropoff_longitude  dropoff_latitude  passenger_count  \\\n0              -73.999512         40.723217                1   \n1              -73.994710         40.750325                1   \n2              -73.962565         40.772647                1   \n3              -73.965316         40.803349                3   \n4              -73.973082         40.761247                5   \n...                   ...               ...              ...   \n199995         -73.986525         40.740297                1   \n199996         -74.006672         40.739620                1   \n199997         -73.858957         40.692588                2   \n199998         -73.983215         40.695415                1   \n199999         -73.985508         40.768793                1   \n\n        distance_traveled  weekday  \n0                1.044594        3  \n1                1.525071        4  \n2                3.131464        0  \n3                1.032372        4  \n4                2.786061        3  \n...                   ...      ...  \n199995           0.069673        6  \n199996           1.167951        4  \n199997           7.995752        0  \n199998           2.197512        2  \n199999           3.362040        5  \n\n[193192 rows x 11 columns]",
      "text/html": "<div>\n<style scoped>\n    .dataframe tbody tr th:only-of-type {\n        vertical-align: middle;\n    }\n\n    .dataframe tbody tr th {\n        vertical-align: top;\n    }\n\n    .dataframe thead th {\n        text-align: right;\n    }\n</style>\n<table border=\"1\" class=\"dataframe\">\n  <thead>\n    <tr style=\"text-align: right;\">\n      <th></th>\n      <th>Unnamed: 0</th>\n      <th>key</th>\n      <th>fare_amount</th>\n      <th>pickup_datetime</th>\n      <th>pickup_longitude</th>\n      <th>pickup_latitude</th>\n      <th>dropoff_longitude</th>\n      <th>dropoff_latitude</th>\n      <th>passenger_count</th>\n      <th>distance_traveled</th>\n      <th>weekday</th>\n    </tr>\n  </thead>\n  <tbody>\n    <tr>\n      <th>0</th>\n      <td>24238194</td>\n      <td>2015-05-07 19:52:06.0000003</td>\n      <td>7.5</td>\n      <td>2015-05-07 19:52:06+00:00</td>\n      <td>-73.999817</td>\n      <td>40.738354</td>\n      <td>-73.999512</td>\n      <td>40.723217</td>\n      <td>1</td>\n      <td>1.044594</td>\n      <td>3</td>\n    </tr>\n    <tr>\n      <th>1</th>\n      <td>27835199</td>\n      <td>2009-07-17 20:04:56.0000002</td>\n      <td>7.7</td>\n      <td>2009-07-17 20:04:56+00:00</td>\n      <td>-73.994355</td>\n      <td>40.728225</td>\n      <td>-73.994710</td>\n      <td>40.750325</td>\n      <td>1</td>\n      <td>1.525071</td>\n      <td>4</td>\n    </tr>\n    <tr>\n      <th>2</th>\n      <td>44984355</td>\n      <td>2009-08-24 21:45:00.00000061</td>\n      <td>12.9</td>\n      <td>2009-08-24 21:45:00+00:00</td>\n      <td>-74.005043</td>\n      <td>40.740770</td>\n      <td>-73.962565</td>\n      <td>40.772647</td>\n      <td>1</td>\n      <td>3.131464</td>\n      <td>0</td>\n    </tr>\n    <tr>\n      <th>3</th>\n      <td>25894730</td>\n      <td>2009-06-26 08:22:21.0000001</td>\n      <td>5.3</td>\n      <td>2009-06-26 08:22:21+00:00</td>\n      <td>-73.976124</td>\n      <td>40.790844</td>\n      <td>-73.965316</td>\n      <td>40.803349</td>\n      <td>3</td>\n      <td>1.032372</td>\n      <td>4</td>\n    </tr>\n    <tr>\n      <th>4</th>\n      <td>17610152</td>\n      <td>2014-08-28 17:47:00.000000188</td>\n      <td>16.0</td>\n      <td>2014-08-28 17:47:00+00:00</td>\n      <td>-73.925023</td>\n      <td>40.744085</td>\n      <td>-73.973082</td>\n      <td>40.761247</td>\n      <td>5</td>\n      <td>2.786061</td>\n      <td>3</td>\n    </tr>\n    <tr>\n      <th>...</th>\n      <td>...</td>\n      <td>...</td>\n      <td>...</td>\n      <td>...</td>\n      <td>...</td>\n      <td>...</td>\n      <td>...</td>\n      <td>...</td>\n      <td>...</td>\n      <td>...</td>\n      <td>...</td>\n    </tr>\n    <tr>\n      <th>199995</th>\n      <td>42598914</td>\n      <td>2012-10-28 10:49:00.00000053</td>\n      <td>3.0</td>\n      <td>2012-10-28 10:49:00+00:00</td>\n      <td>-73.987042</td>\n      <td>40.739367</td>\n      <td>-73.986525</td>\n      <td>40.740297</td>\n      <td>1</td>\n      <td>0.069673</td>\n      <td>6</td>\n    </tr>\n    <tr>\n      <th>199996</th>\n      <td>16382965</td>\n      <td>2014-03-14 01:09:00.0000008</td>\n      <td>7.5</td>\n      <td>2014-03-14 01:09:00+00:00</td>\n      <td>-73.984722</td>\n      <td>40.736837</td>\n      <td>-74.006672</td>\n      <td>40.739620</td>\n      <td>1</td>\n      <td>1.167951</td>\n      <td>4</td>\n    </tr>\n    <tr>\n      <th>199997</th>\n      <td>27804658</td>\n      <td>2009-06-29 00:42:00.00000078</td>\n      <td>30.9</td>\n      <td>2009-06-29 00:42:00+00:00</td>\n      <td>-73.986017</td>\n      <td>40.756487</td>\n      <td>-73.858957</td>\n      <td>40.692588</td>\n      <td>2</td>\n      <td>7.995752</td>\n      <td>0</td>\n    </tr>\n    <tr>\n      <th>199998</th>\n      <td>20259894</td>\n      <td>2015-05-20 14:56:25.0000004</td>\n      <td>14.5</td>\n      <td>2015-05-20 14:56:25+00:00</td>\n      <td>-73.997124</td>\n      <td>40.725452</td>\n      <td>-73.983215</td>\n      <td>40.695415</td>\n      <td>1</td>\n      <td>2.197512</td>\n      <td>2</td>\n    </tr>\n    <tr>\n      <th>199999</th>\n      <td>11951496</td>\n      <td>2010-05-15 04:08:00.00000076</td>\n      <td>14.1</td>\n      <td>2010-05-15 04:08:00+00:00</td>\n      <td>-73.984395</td>\n      <td>40.720077</td>\n      <td>-73.985508</td>\n      <td>40.768793</td>\n      <td>1</td>\n      <td>3.362040</td>\n      <td>5</td>\n    </tr>\n  </tbody>\n</table>\n<p>193192 rows × 11 columns</p>\n</div>"
     },
     "execution_count": 51,
     "metadata": {},
     "output_type": "execute_result"
    }
   ],
   "source": [
    "model = RandomForestRegressor(n_estimators=10, max_depth=10, random_state=42)\n",
    "forest_scores = cross_val_score(model, params, target, scoring=\"neg_mean_squared_error\", cv=10)"
   ],
   "metadata": {
    "collapsed": false,
    "pycharm": {
     "name": "#%%\n"
    }
   }
  },
  {
   "cell_type": "code",
   "execution_count": 50,
   "outputs": [],
   "source": [],
   "metadata": {
    "collapsed": false,
    "pycharm": {
     "name": "#%%\n"
    }
   }
  },
  {
   "cell_type": "code",
   "execution_count": 50,
   "outputs": [],
   "source": [],
   "metadata": {
    "collapsed": false,
    "pycharm": {
     "name": "#%%\n"
    }
   }
  },
  {
   "cell_type": "code",
   "execution_count": 50,
   "outputs": [],
   "source": [],
   "metadata": {
    "collapsed": false,
    "pycharm": {
     "name": "#%%\n"
    }
   }
  },
  {
   "cell_type": "code",
   "execution_count": 50,
   "outputs": [],
   "source": [],
   "metadata": {
    "collapsed": false,
    "pycharm": {
     "name": "#%%\n"
    }
   }
  },
  {
   "cell_type": "code",
   "execution_count": 50,
   "outputs": [],
   "source": [],
   "metadata": {
    "collapsed": false,
    "pycharm": {
     "name": "#%%\n"
    }
   }
  }
 ],
 "metadata": {
  "kernelspec": {
   "display_name": "Python 3 (ipykernel)",
   "language": "python",
   "name": "python3"
  },
  "language_info": {
   "codemirror_mode": {
    "name": "ipython",
    "version": 3
   },
   "file_extension": ".py",
   "mimetype": "text/x-python",
   "name": "python",
   "nbconvert_exporter": "python",
   "pygments_lexer": "ipython3",
   "version": "3.8.10"
  }
 },
 "nbformat": 4,
 "nbformat_minor": 1
}