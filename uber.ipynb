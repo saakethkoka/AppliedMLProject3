{
 "cells": [
  {
   "cell_type": "code",
   "execution_count": 1,
   "metadata": {
    "pycharm": {
     "name": "#%%\n"
    }
   },
   "outputs": [
    {
     "name": "stderr",
     "output_type": "stream",
     "text": [
      "/home/skoka/.local/lib/python3.8/site-packages/xgboost/compat.py:36: FutureWarning: pandas.Int64Index is deprecated and will be removed from pandas in a future version. Use pandas.Index with the appropriate dtype instead.\n",
      "  from pandas import MultiIndex, Int64Index\n"
     ]
    }
   ],
   "source": [
    "import pandas as pd\n",
    "import plotly.express as px\n",
    "from numpy.random import randint\n",
    "from sklearn.base import BaseEstimator, TransformerMixin\n",
    "from sklearn.pipeline import Pipeline\n",
    "import math\n",
    "import geopy.distance\n",
    "from sklearn.linear_model import LinearRegression\n",
    "from datetime import datetime, timedelta, timezone\n",
    "from sklearn.model_selection import train_test_split\n",
    "from sklearn.ensemble import RandomForestRegressor\n",
    "from sklearn.tree import DecisionTreeRegressor\n",
    "from sklearn.model_selection import cross_val_score\n",
    "from xgboost import XGBRegressor # For gradient boosting model at the end. Comment out if not running\n",
    "from sklearn.model_selection import GridSearchCV\n",
    "from sklearn.metrics import mean_squared_error\n",
    "from sklearn.preprocessing import StandardScaler\n",
    "from sklearn.metrics import r2_score\n",
    "import warnings\n",
    "warnings.simplefilter(action='ignore', category=FutureWarning)"
   ]
  },
  {
   "cell_type": "markdown",
   "metadata": {
    "pycharm": {
     "name": "#%% md\n"
    }
   },
   "source": [
    "# Importing the dataset"
   ]
  },
  {
   "cell_type": "code",
   "execution_count": 2,
   "metadata": {
    "pycharm": {
     "name": "#%%\n"
    }
   },
   "outputs": [
    {
     "name": "stdout",
     "output_type": "stream",
     "text": [
      "CPU times: user 154 ms, sys: 17.7 ms, total: 172 ms\n",
      "Wall time: 171 ms\n"
     ]
    }
   ],
   "source": [
    "%%time\n",
    "uber = pd.read_csv(\"uber.csv\")"
   ]
  },
  {
   "cell_type": "markdown",
   "metadata": {
    "pycharm": {
     "name": "#%% md\n"
    }
   },
   "source": [
    "# Cleaning the data:"
   ]
  },
  {
   "cell_type": "code",
   "execution_count": 3,
   "metadata": {
    "pycharm": {
     "name": "#%%\n"
    }
   },
   "outputs": [],
   "source": [
    "class RemoveOutliers(BaseEstimator, TransformerMixin):\n",
    "    def __init__(self, column_name):\n",
    "        self.column_name = column_name\n",
    "    def fit(self, X, y=None):\n",
    "        return self\n",
    "    def transform(self, X, y=None):\n",
    "        mean = X[self.column_name].mean()\n",
    "        std = X[self.column_name].std()\n",
    "        X = X[(X[self.column_name] < mean + 3*std) & (X[self.column_name] > mean - 3*std)]\n",
    "        return X"
   ]
  },
  {
   "cell_type": "code",
   "execution_count": 4,
   "metadata": {
    "pycharm": {
     "name": "#%%\n"
    }
   },
   "outputs": [],
   "source": [
    "data_cleaner = Pipeline([\n",
    "    (\"RemoveOutliers-pickup_longitude\", RemoveOutliers(\"pickup_longitude\")),\n",
    "    (\"RemoveOutliers-pickup_latitude\", RemoveOutliers(\"pickup_latitude\")),\n",
    "    (\"RemoveOutliers-dropoff_latitude\", RemoveOutliers(\"dropoff_latitude\")),\n",
    "    (\"RemoveOutliers-dropoff_longitude\", RemoveOutliers(\"dropoff_longitude\")),\n",
    "])"
   ]
  },
  {
   "cell_type": "code",
   "execution_count": 5,
   "metadata": {
    "pycharm": {
     "name": "#%%\n"
    }
   },
   "outputs": [],
   "source": [
    "uber = data_cleaner.fit_transform(uber)"
   ]
  },
  {
   "cell_type": "markdown",
   "metadata": {
    "pycharm": {
     "name": "#%% md\n"
    }
   },
   "source": [
    "# Splitting the data:"
   ]
  },
  {
   "cell_type": "code",
   "execution_count": 6,
   "metadata": {
    "pycharm": {
     "name": "#%%\n"
    }
   },
   "outputs": [],
   "source": [
    "X_train, X_test, y_train, y_test = train_test_split(uber.drop(['fare_amount'], axis=1), uber['fare_amount'], test_size=0.2, random_state=42)"
   ]
  },
  {
   "cell_type": "markdown",
   "metadata": {
    "pycharm": {
     "name": "#%% md\n"
    }
   },
   "source": [
    "# Preparing the data:"
   ]
  },
  {
   "cell_type": "code",
   "execution_count": 7,
   "metadata": {
    "pycharm": {
     "name": "#%%\n"
    }
   },
   "outputs": [],
   "source": [
    "class CalculateDistanceTraveled(BaseEstimator, TransformerMixin):\n",
    "    def calc_distance(self, x):\n",
    "        coords_1 = (x.pickup_latitude, x.pickup_longitude)\n",
    "        coords_2 = (x.dropoff_latitude, x.dropoff_longitude)\n",
    "        try:\n",
    "            miles = geopy.distance.great_circle(coords_1, coords_2).miles\n",
    "        except:\n",
    "            return -1\n",
    "        return miles\n",
    "    def fit(self, X, y=None):\n",
    "        return self\n",
    "    def transform(self, X, y=None):\n",
    "        X[\"distance_traveled\"] = X.apply(lambda x : self.calc_distance(x), axis=1)\n",
    "        return X"
   ]
  },
  {
   "cell_type": "code",
   "execution_count": 8,
   "metadata": {
    "pycharm": {
     "name": "#%%\n"
    }
   },
   "outputs": [],
   "source": [
    "class TransformDateTime(BaseEstimator, TransformerMixin):\n",
    "    def __init__(self, column_name):\n",
    "        self.column_name = column_name\n",
    "    def fit(self, X, y=None):\n",
    "        return self\n",
    "    def transform(self, X, y=None):\n",
    "        X[self.column_name] = pd.to_datetime(X[self.column_name])\n",
    "        return X"
   ]
  },
  {
   "cell_type": "code",
   "execution_count": 9,
   "metadata": {
    "pycharm": {
     "name": "#%%\n"
    }
   },
   "outputs": [],
   "source": [
    "class ExtractWeekday(BaseEstimator, TransformerMixin):\n",
    "    def fit(self, X, y=None):\n",
    "        return self\n",
    "    def transform(self, X, y=None):\n",
    "        X[\"weekday\"] = X[\"pickup_datetime\"].dt.weekday\n",
    "        return X"
   ]
  },
  {
   "cell_type": "code",
   "execution_count": 10,
   "metadata": {
    "pycharm": {
     "name": "#%%\n"
    }
   },
   "outputs": [],
   "source": [
    "class ExtractHour(BaseEstimator, TransformerMixin):\n",
    "    def fit(self, X, y=None):\n",
    "        return self\n",
    "    def transform(self, X, y=None):\n",
    "        X[\"pickup_datetime\"] = X[\"pickup_datetime\"].dt.hour\n",
    "        return X"
   ]
  },
  {
   "cell_type": "code",
   "execution_count": 11,
   "metadata": {
    "pycharm": {
     "name": "#%%\n"
    }
   },
   "outputs": [],
   "source": [
    "class OneHotEncoder(BaseEstimator, TransformerMixin):\n",
    "    def __init__(self, column_name):\n",
    "        self.column_name = column_name\n",
    "    def fit(self, X, y=None):\n",
    "        return self\n",
    "    def transform(self, X, y=None):\n",
    "        X = pd.concat([X, pd.get_dummies(X[self.column_name])], axis=1)\n",
    "        X.drop(self.column_name, axis=1, inplace=True)\n",
    "        return X"
   ]
  },
  {
   "cell_type": "code",
   "execution_count": 12,
   "metadata": {
    "pycharm": {
     "name": "#%%\n"
    }
   },
   "outputs": [],
   "source": [
    "class ColumnDropper(BaseEstimator, TransformerMixin):\n",
    "    def __init__(self, column_name):\n",
    "        self.column_name = column_name\n",
    "    def fit(self, X, y=None):\n",
    "        return self\n",
    "    def transform(self, X, y=None):\n",
    "        X.drop(self.column_name, axis=1, inplace=True)\n",
    "        return X"
   ]
  },
  {
   "cell_type": "code",
   "execution_count": 13,
   "metadata": {
    "pycharm": {
     "name": "#%%\n"
    }
   },
   "outputs": [],
   "source": [
    "data_preparation = Pipeline([\n",
    "    (\"CalculateDistanceTraveled\", CalculateDistanceTraveled()),\n",
    "    (\"CustomTransformer_CalculatingDistanceTraveled\", CalculateDistanceTraveled()),\n",
    "    (\"TransformDateTime-pickup_datetime\", TransformDateTime(\"pickup_datetime\")),\n",
    "    (\"ExtractWeekday\", ExtractWeekday()),\n",
    "    (\"ExtractHour\", ExtractHour()),\n",
    "    (\"OneHotEncode-Weekday\", OneHotEncoder(\"weekday\")),\n",
    "    (\"ColumnDropper-key\", ColumnDropper(\"key\")),\n",
    "    (\"ColumnDropper-unnamed\", ColumnDropper(\"Unnamed: 0\")),\n",
    "    (\"Scaler\", StandardScaler())\n",
    "])"
   ]
  },
  {
   "cell_type": "markdown",
   "metadata": {
    "pycharm": {
     "name": "#%% md\n"
    }
   },
   "source": [
    "# Full Pipeline:"
   ]
  },
  {
   "cell_type": "code",
   "execution_count": 14,
   "metadata": {
    "pycharm": {
     "name": "#%%\n"
    }
   },
   "outputs": [],
   "source": [
    "full_pipeline = Pipeline([\n",
    "    (\"data_preparation\", data_preparation),\n",
    "    (\"model\", DecisionTreeRegressor(max_depth=7, random_state=42))\n",
    "])"
   ]
  },
  {
   "cell_type": "code",
   "execution_count": 15,
   "metadata": {
    "pycharm": {
     "name": "#%%\n"
    }
   },
   "outputs": [],
   "source": [
    "Dt_model = full_pipeline.fit(X_train, y_train)"
   ]
  },
  {
   "cell_type": "code",
   "execution_count": 16,
   "metadata": {
    "pycharm": {
     "name": "#%%\n"
    }
   },
   "outputs": [
    {
     "data": {
      "text/plain": [
       "0.7939651597646665"
      ]
     },
     "execution_count": 16,
     "metadata": {},
     "output_type": "execute_result"
    }
   ],
   "source": [
    "Dt_model.score(X_test, y_test)"
   ]
  },
  {
   "cell_type": "markdown",
   "metadata": {
    "pycharm": {
     "name": "#%% md\n"
    }
   },
   "source": [
    "# Data Preperation for other models"
   ]
  },
  {
   "cell_type": "code",
   "execution_count": 17,
   "metadata": {
    "pycharm": {
     "name": "#%%\n"
    }
   },
   "outputs": [
    {
     "name": "stdout",
     "output_type": "stream",
     "text": [
      "CPU times: user 8.09 s, sys: 18.4 ms, total: 8.11 s\n",
      "Wall time: 8.11 s\n"
     ]
    }
   ],
   "source": [
    "%%time\n",
    "X_train = data_preparation.fit_transform(X_train)\n",
    "X_test = data_preparation.fit_transform(X_test)"
   ]
  },
  {
   "cell_type": "markdown",
   "metadata": {
    "pycharm": {
     "name": "#%% md\n"
    }
   },
   "source": [
    "# Model Exploration:"
   ]
  },
  {
   "cell_type": "markdown",
   "metadata": {
    "pycharm": {
     "name": "#%% md\n"
    }
   },
   "source": [
    "### Decision Tree"
   ]
  },
  {
   "cell_type": "code",
   "execution_count": 18,
   "metadata": {
    "pycharm": {
     "name": "#%%\n"
    }
   },
   "outputs": [
    {
     "name": "stdout",
     "output_type": "stream",
     "text": [
      "CPU times: user 1.79 s, sys: 3.54 ms, total: 1.8 s\n",
      "Wall time: 1.79 s\n"
     ]
    },
    {
     "data": {
      "text/plain": [
       "0.7706759299559621"
      ]
     },
     "execution_count": 18,
     "metadata": {},
     "output_type": "execute_result"
    }
   ],
   "source": [
    "%%time\n",
    "DT_model = DecisionTreeRegressor(max_depth=7, random_state=42)\n",
    "DT_scores = cross_val_score(DT_model, X_train, y_train, scoring=\"r2\", cv=5)\n",
    "DT_scores.mean()"
   ]
  },
  {
   "cell_type": "markdown",
   "metadata": {
    "pycharm": {
     "name": "#%% md\n"
    }
   },
   "source": [
    "### Linear Regression"
   ]
  },
  {
   "cell_type": "code",
   "execution_count": 19,
   "metadata": {
    "pycharm": {
     "name": "#%%\n"
    }
   },
   "outputs": [
    {
     "data": {
      "text/plain": [
       "0.08338431372487043"
      ]
     },
     "execution_count": 19,
     "metadata": {},
     "output_type": "execute_result"
    }
   ],
   "source": [
    "LR_model = LinearRegression()\n",
    "LR_scores = cross_val_score(LR_model, X_train, y_train, scoring=\"r2\", cv=5)\n",
    "LR_scores.mean()"
   ]
  },
  {
   "cell_type": "markdown",
   "metadata": {
    "pycharm": {
     "name": "#%% md\n"
    }
   },
   "source": [
    "### Random Forest"
   ]
  },
  {
   "cell_type": "code",
   "execution_count": 20,
   "metadata": {
    "pycharm": {
     "name": "#%%\n"
    }
   },
   "outputs": [
    {
     "name": "stdout",
     "output_type": "stream",
     "text": [
      "CPU times: user 26 s, sys: 701 ms, total: 26.7 s\n",
      "Wall time: 25.7 s\n"
     ]
    },
    {
     "data": {
      "text/plain": [
       "0.7931103666607402"
      ]
     },
     "execution_count": 20,
     "metadata": {},
     "output_type": "execute_result"
    }
   ],
   "source": [
    "%%time\n",
    "RF_model = RandomForestRegressor(n_estimators=20, max_depth=8, random_state=42)\n",
    "forest_scores = cross_val_score(RF_model, X_train, y_train, scoring=\"r2\", cv=5)\n",
    "forest_scores.mean()"
   ]
  },
  {
   "cell_type": "markdown",
   "metadata": {},
   "source": [
    "### Gradient Boosting - Do not run this section if you do not have a Cuda-Compatable GPU"
   ]
  },
  {
   "cell_type": "code",
   "execution_count": 21,
   "metadata": {
    "pycharm": {
     "name": "#%%\n"
    }
   },
   "outputs": [
    {
     "name": "stdout",
     "output_type": "stream",
     "text": [
      "CPU times: user 40.8 s, sys: 207 ms, total: 41 s\n",
      "Wall time: 33.7 s\n"
     ]
    },
    {
     "data": {
      "text/plain": [
       "0.7971188838124149"
      ]
     },
     "execution_count": 21,
     "metadata": {},
     "output_type": "execute_result"
    }
   ],
   "source": [
    "%%time\n",
    "XGB_model = XGBRegressor(n_estimators=3000, max_depth=4, random_state=42, tree_method=\"gpu_hist\", learning_rate=0.01)\n",
    "XGB_scores = cross_val_score(XGB_model, X_train, y_train, scoring=\"r2\", cv=10)\n",
    "XGB_scores.mean()"
   ]
  },
  {
   "cell_type": "code",
   "execution_count": 22,
   "metadata": {
    "pycharm": {
     "name": "#%%\n"
    }
   },
   "outputs": [
    {
     "name": "stdout",
     "output_type": "stream",
     "text": [
      "Fitting 5 folds for each of 12 candidates, totalling 60 fits\n",
      "[CV 1/5] END learning_rate=0.01, max_depth=2, n_estimators=10, tree_method=gpu_hist;, score=-0.942 total time=   0.0s\n",
      "[CV 2/5] END learning_rate=0.01, max_depth=2, n_estimators=10, tree_method=gpu_hist;, score=-0.889 total time=   0.0s\n",
      "[CV 3/5] END learning_rate=0.01, max_depth=2, n_estimators=10, tree_method=gpu_hist;, score=-0.876 total time=   0.0s\n",
      "[CV 4/5] END learning_rate=0.01, max_depth=2, n_estimators=10, tree_method=gpu_hist;, score=-0.812 total time=   0.0s\n",
      "[CV 5/5] END learning_rate=0.01, max_depth=2, n_estimators=10, tree_method=gpu_hist;, score=-0.876 total time=   0.0s\n",
      "[CV 1/5] END learning_rate=0.01, max_depth=2, n_estimators=100, tree_method=gpu_hist;, score=0.465 total time=   0.1s\n",
      "[CV 2/5] END learning_rate=0.01, max_depth=2, n_estimators=100, tree_method=gpu_hist;, score=0.445 total time=   0.1s\n",
      "[CV 3/5] END learning_rate=0.01, max_depth=2, n_estimators=100, tree_method=gpu_hist;, score=0.453 total time=   0.1s\n",
      "[CV 4/5] END learning_rate=0.01, max_depth=2, n_estimators=100, tree_method=gpu_hist;, score=0.402 total time=   0.1s\n",
      "[CV 5/5] END learning_rate=0.01, max_depth=2, n_estimators=100, tree_method=gpu_hist;, score=0.455 total time=   0.1s\n",
      "[CV 1/5] END learning_rate=0.01, max_depth=2, n_estimators=1000, tree_method=gpu_hist;, score=0.802 total time=   0.6s\n",
      "[CV 2/5] END learning_rate=0.01, max_depth=2, n_estimators=1000, tree_method=gpu_hist;, score=0.777 total time=   0.6s\n",
      "[CV 3/5] END learning_rate=0.01, max_depth=2, n_estimators=1000, tree_method=gpu_hist;, score=0.797 total time=   0.6s\n",
      "[CV 4/5] END learning_rate=0.01, max_depth=2, n_estimators=1000, tree_method=gpu_hist;, score=0.704 total time=   0.6s\n",
      "[CV 5/5] END learning_rate=0.01, max_depth=2, n_estimators=1000, tree_method=gpu_hist;, score=0.794 total time=   0.6s\n",
      "[CV 1/5] END learning_rate=0.01, max_depth=4, n_estimators=10, tree_method=gpu_hist;, score=-0.931 total time=   0.0s\n",
      "[CV 2/5] END learning_rate=0.01, max_depth=4, n_estimators=10, tree_method=gpu_hist;, score=-0.878 total time=   0.0s\n",
      "[CV 3/5] END learning_rate=0.01, max_depth=4, n_estimators=10, tree_method=gpu_hist;, score=-0.864 total time=   0.0s\n",
      "[CV 4/5] END learning_rate=0.01, max_depth=4, n_estimators=10, tree_method=gpu_hist;, score=-0.803 total time=   0.0s\n",
      "[CV 5/5] END learning_rate=0.01, max_depth=4, n_estimators=10, tree_method=gpu_hist;, score=-0.864 total time=   0.0s\n",
      "[CV 1/5] END learning_rate=0.01, max_depth=4, n_estimators=100, tree_method=gpu_hist;, score=0.506 total time=   0.1s\n",
      "[CV 2/5] END learning_rate=0.01, max_depth=4, n_estimators=100, tree_method=gpu_hist;, score=0.490 total time=   0.1s\n",
      "[CV 3/5] END learning_rate=0.01, max_depth=4, n_estimators=100, tree_method=gpu_hist;, score=0.502 total time=   0.1s\n",
      "[CV 4/5] END learning_rate=0.01, max_depth=4, n_estimators=100, tree_method=gpu_hist;, score=0.441 total time=   0.1s\n",
      "[CV 5/5] END learning_rate=0.01, max_depth=4, n_estimators=100, tree_method=gpu_hist;, score=0.506 total time=   0.1s\n",
      "[CV 1/5] END learning_rate=0.01, max_depth=4, n_estimators=1000, tree_method=gpu_hist;, score=0.812 total time=   1.1s\n",
      "[CV 2/5] END learning_rate=0.01, max_depth=4, n_estimators=1000, tree_method=gpu_hist;, score=0.794 total time=   1.1s\n",
      "[CV 3/5] END learning_rate=0.01, max_depth=4, n_estimators=1000, tree_method=gpu_hist;, score=0.819 total time=   1.1s\n",
      "[CV 4/5] END learning_rate=0.01, max_depth=4, n_estimators=1000, tree_method=gpu_hist;, score=0.720 total time=   1.1s\n",
      "[CV 5/5] END learning_rate=0.01, max_depth=4, n_estimators=1000, tree_method=gpu_hist;, score=0.808 total time=   1.1s\n",
      "[CV 1/5] END learning_rate=0.01, max_depth=6, n_estimators=10, tree_method=gpu_hist;, score=-0.926 total time=   0.1s\n",
      "[CV 2/5] END learning_rate=0.01, max_depth=6, n_estimators=10, tree_method=gpu_hist;, score=-0.871 total time=   0.1s\n",
      "[CV 3/5] END learning_rate=0.01, max_depth=6, n_estimators=10, tree_method=gpu_hist;, score=-0.859 total time=   0.1s\n",
      "[CV 4/5] END learning_rate=0.01, max_depth=6, n_estimators=10, tree_method=gpu_hist;, score=-0.798 total time=   0.1s\n",
      "[CV 5/5] END learning_rate=0.01, max_depth=6, n_estimators=10, tree_method=gpu_hist;, score=-0.858 total time=   0.1s\n",
      "[CV 1/5] END learning_rate=0.01, max_depth=6, n_estimators=100, tree_method=gpu_hist;, score=0.525 total time=   0.3s\n",
      "[CV 2/5] END learning_rate=0.01, max_depth=6, n_estimators=100, tree_method=gpu_hist;, score=0.509 total time=   0.3s\n",
      "[CV 3/5] END learning_rate=0.01, max_depth=6, n_estimators=100, tree_method=gpu_hist;, score=0.522 total time=   0.4s\n",
      "[CV 4/5] END learning_rate=0.01, max_depth=6, n_estimators=100, tree_method=gpu_hist;, score=0.456 total time=   0.3s\n",
      "[CV 5/5] END learning_rate=0.01, max_depth=6, n_estimators=100, tree_method=gpu_hist;, score=0.527 total time=   0.3s\n",
      "[CV 1/5] END learning_rate=0.01, max_depth=6, n_estimators=1000, tree_method=gpu_hist;, score=0.818 total time=   2.8s\n",
      "[CV 2/5] END learning_rate=0.01, max_depth=6, n_estimators=1000, tree_method=gpu_hist;, score=0.791 total time=   2.7s\n",
      "[CV 3/5] END learning_rate=0.01, max_depth=6, n_estimators=1000, tree_method=gpu_hist;, score=0.821 total time=   2.7s\n",
      "[CV 4/5] END learning_rate=0.01, max_depth=6, n_estimators=1000, tree_method=gpu_hist;, score=0.727 total time=   2.9s\n",
      "[CV 5/5] END learning_rate=0.01, max_depth=6, n_estimators=1000, tree_method=gpu_hist;, score=0.819 total time=   2.8s\n",
      "[CV 1/5] END learning_rate=0.01, max_depth=8, n_estimators=10, tree_method=gpu_hist;, score=-0.926 total time=   0.1s\n",
      "[CV 2/5] END learning_rate=0.01, max_depth=8, n_estimators=10, tree_method=gpu_hist;, score=-0.871 total time=   0.1s\n",
      "[CV 3/5] END learning_rate=0.01, max_depth=8, n_estimators=10, tree_method=gpu_hist;, score=-0.857 total time=   0.1s\n",
      "[CV 4/5] END learning_rate=0.01, max_depth=8, n_estimators=10, tree_method=gpu_hist;, score=-0.796 total time=   0.1s\n",
      "[CV 5/5] END learning_rate=0.01, max_depth=8, n_estimators=10, tree_method=gpu_hist;, score=-0.856 total time=   0.1s\n",
      "[CV 1/5] END learning_rate=0.01, max_depth=8, n_estimators=100, tree_method=gpu_hist;, score=0.523 total time=   0.9s\n",
      "[CV 2/5] END learning_rate=0.01, max_depth=8, n_estimators=100, tree_method=gpu_hist;, score=0.514 total time=   0.9s\n",
      "[CV 3/5] END learning_rate=0.01, max_depth=8, n_estimators=100, tree_method=gpu_hist;, score=0.531 total time=   0.9s\n",
      "[CV 4/5] END learning_rate=0.01, max_depth=8, n_estimators=100, tree_method=gpu_hist;, score=0.464 total time=   0.9s\n",
      "[CV 5/5] END learning_rate=0.01, max_depth=8, n_estimators=100, tree_method=gpu_hist;, score=0.536 total time=   0.9s\n",
      "[CV 1/5] END learning_rate=0.01, max_depth=8, n_estimators=1000, tree_method=gpu_hist;, score=0.813 total time=   8.2s\n",
      "[CV 2/5] END learning_rate=0.01, max_depth=8, n_estimators=1000, tree_method=gpu_hist;, score=0.797 total time=   8.1s\n",
      "[CV 3/5] END learning_rate=0.01, max_depth=8, n_estimators=1000, tree_method=gpu_hist;, score=0.816 total time=   8.0s\n",
      "[CV 4/5] END learning_rate=0.01, max_depth=8, n_estimators=1000, tree_method=gpu_hist;, score=0.730 total time=   8.1s\n",
      "[CV 5/5] END learning_rate=0.01, max_depth=8, n_estimators=1000, tree_method=gpu_hist;, score=0.818 total time=   8.1s\n",
      "CPU times: user 1min 36s, sys: 313 ms, total: 1min 36s\n",
      "Wall time: 1min 13s\n"
     ]
    },
    {
     "data": {
      "text/plain": [
       "GridSearchCV(cv=5,\n",
       "             estimator=XGBRegressor(base_score=None, booster=None,\n",
       "                                    colsample_bylevel=None,\n",
       "                                    colsample_bynode=None,\n",
       "                                    colsample_bytree=None,\n",
       "                                    enable_categorical=False, gamma=None,\n",
       "                                    gpu_id=None, importance_type=None,\n",
       "                                    interaction_constraints=None,\n",
       "                                    learning_rate=None, max_delta_step=None,\n",
       "                                    max_depth=None, min_child_weight=None,\n",
       "                                    missing=nan, monotone_constraints=None,\n",
       "                                    n_estimators=100, n_jobs=None,\n",
       "                                    num_parallel_tree=None, predictor=None,\n",
       "                                    random_state=42, reg_alpha=None,\n",
       "                                    reg_lambda=None, scale_pos_weight=None,\n",
       "                                    subsample=None, tree_method=None,\n",
       "                                    validate_parameters=None, verbosity=None),\n",
       "             param_grid={'learning_rate': [0.01], 'max_depth': [2, 4, 6, 8],\n",
       "                         'n_estimators': [10, 100, 1000],\n",
       "                         'tree_method': ['gpu_hist']},\n",
       "             scoring='r2', verbose=3)"
      ]
     },
     "execution_count": 22,
     "metadata": {},
     "output_type": "execute_result"
    }
   ],
   "source": [
    "%%time\n",
    "param_grid = {\n",
    "    \"n_estimators\": [10, 100, 1000],\n",
    "    \"max_depth\": [2, 4, 6, 8],\n",
    "    \"learning_rate\": [0.01],\n",
    "    \"tree_method\": [\"gpu_hist\"],\n",
    "}\n",
    "XGB_model = XGBRegressor(random_state=42)\n",
    "XGB_grid = GridSearchCV(XGB_model, param_grid, scoring=\"r2\", cv=5, verbose=3)\n",
    "XGB_grid.fit(X_train, y_train)"
   ]
  },
  {
   "cell_type": "code",
   "execution_count": 23,
   "metadata": {
    "pycharm": {
     "name": "#%%\n"
    }
   },
   "outputs": [
    {
     "data": {
      "text/plain": [
       "0.7952459077676868"
      ]
     },
     "execution_count": 23,
     "metadata": {},
     "output_type": "execute_result"
    }
   ],
   "source": [
    "XGB_grid.best_score_"
   ]
  },
  {
   "cell_type": "code",
   "execution_count": 24,
   "metadata": {
    "pycharm": {
     "name": "#%%\n"
    }
   },
   "outputs": [
    {
     "data": {
      "text/plain": [
       "{'learning_rate': 0.01,\n",
       " 'max_depth': 6,\n",
       " 'n_estimators': 1000,\n",
       " 'tree_method': 'gpu_hist'}"
      ]
     },
     "execution_count": 24,
     "metadata": {},
     "output_type": "execute_result"
    }
   ],
   "source": [
    "XGB_grid.best_params_"
   ]
  },
  {
   "cell_type": "markdown",
   "metadata": {
    "pycharm": {
     "name": "#%% md\n"
    }
   },
   "source": [
    "# Ensamble of Methods:"
   ]
  },
  {
   "cell_type": "code",
   "execution_count": 25,
   "metadata": {
    "pycharm": {
     "name": "#%%\n"
    }
   },
   "outputs": [],
   "source": [
    "class Ensemble_RandomForest_DecisionTree():\n",
    "    def __init__(self):\n",
    "        self.rfRegressor = RandomForestRegressor(n_estimators=20, max_depth=8, random_state=42)\n",
    "        self.dtRegressor = DecisionTreeRegressor(max_depth=7, random_state=42)\n",
    "    def fit(self, X, y):\n",
    "        self.rfRegressor.fit(X, y)\n",
    "        self.dtRegressor.fit(X, y)\n",
    "    def predict(self, X):\n",
    "        return .5*self.rfRegressor.predict(X) + .5*self.dtRegressor.predict(X)"
   ]
  },
  {
   "cell_type": "code",
   "execution_count": 26,
   "metadata": {
    "pycharm": {
     "name": "#%%\n"
    }
   },
   "outputs": [
    {
     "name": "stdout",
     "output_type": "stream",
     "text": [
      "CPU times: user 6.82 s, sys: 7.89 ms, total: 6.83 s\n",
      "Wall time: 6.83 s\n"
     ]
    }
   ],
   "source": [
    "%%time\n",
    "Ensemble_RandomForest_DecisionTree_model = Ensemble_RandomForest_DecisionTree()\n",
    "Ensemble_RandomForest_DecisionTree_model.fit(X_train, y_train)"
   ]
  },
  {
   "cell_type": "markdown",
   "metadata": {
    "pycharm": {
     "name": "#%% md\n"
    }
   },
   "source": [
    "## Model Scoring"
   ]
  },
  {
   "cell_type": "code",
   "execution_count": 27,
   "metadata": {
    "pycharm": {
     "name": "#%%\n"
    }
   },
   "outputs": [],
   "source": [
    "predictions = Ensemble_RandomForest_DecisionTree_model.predict(X_test)"
   ]
  },
  {
   "cell_type": "code",
   "execution_count": 28,
   "metadata": {
    "pycharm": {
     "name": "#%%\n"
    }
   },
   "outputs": [
    {
     "data": {
      "text/plain": [
       "0.6992457138548683"
      ]
     },
     "execution_count": 28,
     "metadata": {},
     "output_type": "execute_result"
    }
   ],
   "source": [
    "r2_score(y_test, predictions)"
   ]
  },
  {
   "cell_type": "code",
   "execution_count": 29,
   "metadata": {
    "pycharm": {
     "name": "#%%\n"
    }
   },
   "outputs": [
    {
     "data": {
      "text/plain": [
       "28.901544437239988"
      ]
     },
     "execution_count": 29,
     "metadata": {},
     "output_type": "execute_result"
    }
   ],
   "source": [
    "mean_squared_error(y_test, predictions)"
   ]
  },
  {
   "cell_type": "code",
   "execution_count": null,
   "metadata": {
    "pycharm": {
     "name": "#%%\n"
    }
   },
   "outputs": [],
   "source": []
  },
  {
   "cell_type": "code",
   "execution_count": null,
   "metadata": {},
   "outputs": [],
   "source": []
  },
  {
   "cell_type": "code",
   "execution_count": null,
   "metadata": {},
   "outputs": [],
   "source": []
  }
 ],
 "metadata": {
  "kernelspec": {
   "display_name": "Python 3 (ipykernel)",
   "language": "python",
   "name": "python3"
  },
  "language_info": {
   "codemirror_mode": {
    "name": "ipython",
    "version": 3
   },
   "file_extension": ".py",
   "mimetype": "text/x-python",
   "name": "python",
   "nbconvert_exporter": "python",
   "pygments_lexer": "ipython3",
   "version": "3.8.10"
  }
 },
 "nbformat": 4,
 "nbformat_minor": 1
}